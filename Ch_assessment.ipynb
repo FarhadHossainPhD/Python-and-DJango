{
 "cells": [
  {
   "cell_type": "markdown",
   "id": "86ee973f",
   "metadata": {},
   "source": [
    "# Class 13, Date Dec28 , 2023"
   ]
  },
  {
   "cell_type": "markdown",
   "id": "52d65417",
   "metadata": {},
   "source": [
    "## Final_assessment_coding"
   ]
  },
  {
   "cell_type": "code",
   "execution_count": 7,
   "id": "fe2a42cd",
   "metadata": {},
   "outputs": [
    {
     "name": "stdout",
     "output_type": "stream",
     "text": [
      "15\n"
     ]
    }
   ],
   "source": [
    "# 1. Calculate the Sum:\n",
    "# Write a Python function to calculate the sum of all elements in a list.\n",
    "\n",
    "def calculate_sum(input_list):\n",
    "    total_sum = 0\n",
    "    for element in input_list:\n",
    "        total_sum += element\n",
    "    return total_sum\n",
    "\n",
    "# Example usage:\n",
    "sample_list = [1, 2, 3, 4, 5]\n",
    "result = calculate_sum(sample_list)\n",
    "print(result)"
   ]
  },
  {
   "cell_type": "code",
   "execution_count": 8,
   "id": "a14bfd3c",
   "metadata": {},
   "outputs": [
    {
     "name": "stdout",
     "output_type": "stream",
     "text": [
      "120\n"
     ]
    }
   ],
   "source": [
    "# 2. Factorial Calculation:\n",
    "# Implement a Python function to calculate the factorial of a given number.\n",
    "\n",
    "def calculate_factorial(n):\n",
    "    if n == 0 or n == 1:\n",
    "        return 1\n",
    "    factorial = 1\n",
    "    for i in range(2, n + 1):\n",
    "        factorial *= i\n",
    "    return factorial\n",
    "\n",
    "# Example usage:\n",
    "sample_input = 5\n",
    "result = calculate_factorial(sample_input)\n",
    "print(result)"
   ]
  },
  {
   "cell_type": "code",
   "execution_count": 64,
   "id": "1334a03f",
   "metadata": {},
   "outputs": [
    {
     "name": "stdout",
     "output_type": "stream",
     "text": [
      "Madam o Aadam is not a palindrome.\n"
     ]
    }
   ],
   "source": [
    "# 3. Palindrome Check:\n",
    "# Write a Python function to check if a given string is a palindrome.\n",
    "\n",
    "def is_palindrome(s):\n",
    "    # Convert the string to lowercase and remove spaces\n",
    "    s = s.lower().replace(\" \", \"\")\n",
    "    \n",
    "    # Check if the string is equal to its reverse\n",
    "    return s == s[::-1]\n",
    "\n",
    "# Example usage:\n",
    "sample_string = \"Madam o Aadam\"\n",
    "result = is_palindrome(sample_string)\n",
    "\n",
    "if result:\n",
    "    print(f\"{sample_string} is a palindrome.\")\n",
    "else:\n",
    "    print(f\"{sample_string} is not a palindrome.\")"
   ]
  },
  {
   "cell_type": "code",
   "execution_count": 65,
   "id": "ccb6dee8",
   "metadata": {},
   "outputs": [
    {
     "name": "stdout",
     "output_type": "stream",
     "text": [
      "[5, 4, 3, 2, 1]\n"
     ]
    }
   ],
   "source": [
    "# 4. List Reversal:\n",
    "# Implement a Python function to reverse a list.\n",
    "\n",
    "def reverse_list(input_list):\n",
    "    return input_list[::-1]\n",
    "\n",
    "# Example usage:\n",
    "sample_list = [1, 2, 3, 4, 5]\n",
    "reversed_list = reverse_list(sample_list)\n",
    "print(reversed_list)"
   ]
  },
  {
   "cell_type": "code",
   "execution_count": 67,
   "id": "12e1b92f",
   "metadata": {},
   "outputs": [
    {
     "name": "stdout",
     "output_type": "stream",
     "text": [
      "The number of vowels in 'Hell, Hossain!' is: 4\n"
     ]
    }
   ],
   "source": [
    "# 5. Count Vowels:\n",
    "# Write a Python function to count the number of vowels in a given string.\n",
    "\n",
    "def count_vowels(input_string):\n",
    "    vowels = \"aeiouAEIOU\"\n",
    "    count = 0\n",
    "    for char in input_string:\n",
    "        if char in vowels:\n",
    "            count += 1\n",
    "    return count\n",
    "\n",
    "# Example usage:\n",
    "sample_string = \"Hell, Hossain!\"\n",
    "result = count_vowels(sample_string)\n",
    "print(f\"The number of vowels in '{sample_string}' is: {result}\")"
   ]
  },
  {
   "cell_type": "code",
   "execution_count": 68,
   "id": "f30d3df0",
   "metadata": {},
   "outputs": [
    {
     "name": "stdout",
     "output_type": "stream",
     "text": [
      "The Fibonacci sequence up to 10 terms is: [0, 1, 1, 2, 3, 5, 8, 13, 21, 34]\n"
     ]
    }
   ],
   "source": [
    "# 6. Fibonacci Sequence:\n",
    "# Implement a Python function to generate the Fibonacci sequence up to a specified term.\n",
    "\n",
    "def generate_fibonacci(n):\n",
    "    fibonacci_sequence = [0, 1]\n",
    "    while len(fibonacci_sequence) < n:\n",
    "        next_term = fibonacci_sequence[-1] + fibonacci_sequence[-2]\n",
    "        fibonacci_sequence.append(next_term)\n",
    "    return fibonacci_sequence\n",
    "\n",
    "# Example usage:\n",
    "num_terms = 10\n",
    "fibonacci_result = generate_fibonacci(num_terms)\n",
    "print(f\"The Fibonacci sequence up to {num_terms} terms is: {fibonacci_result}\")"
   ]
  },
  {
   "cell_type": "code",
   "execution_count": 21,
   "id": "f88bde95",
   "metadata": {},
   "outputs": [
    {
     "name": "stdout",
     "output_type": "stream",
     "text": [
      "The maximum element in the list is: 10\n"
     ]
    }
   ],
   "source": [
    "# 7. Maximum Element:\n",
    "# Write a Python function to find the maximum element in a list.\n",
    "\n",
    "def find_max_element(input_list):\n",
    "    if not input_list:\n",
    "        return None  # Return None for an empty list\n",
    "    \n",
    "    max_element = input_list[0]\n",
    "    for element in input_list:\n",
    "        if element > max_element:\n",
    "            max_element = element\n",
    "    return max_element\n",
    "\n",
    "# Example usage:\n",
    "sample_list = [4, 8, 2, 10, 5]\n",
    "max_element_result = find_max_element(sample_list)\n",
    "print(f\"The maximum element in the list is: {max_element_result}\")"
   ]
  },
  {
   "cell_type": "code",
   "execution_count": 23,
   "id": "b6dd8930",
   "metadata": {},
   "outputs": [
    {
     "name": "stdout",
     "output_type": "stream",
     "text": [
      "The unique elements in the list are: [1, 2, 3, 4, 5]\n"
     ]
    }
   ],
   "source": [
    "# 8. Unique Elements:\n",
    "# Implement a Python function to return the unique elements from a list.\n",
    "\n",
    "def unique_elements(input_list):\n",
    "    return list(set(input_list))\n",
    "\n",
    "# Example usage:\n",
    "sample_list = [1, 2, 2, 3, 4, 4, 5]\n",
    "unique_elements_result = unique_elements(sample_list)\n",
    "print(f\"The unique elements in the list are: {unique_elements_result}\")"
   ]
  },
  {
   "cell_type": "code",
   "execution_count": 25,
   "id": "3c1984af",
   "metadata": {},
   "outputs": [
    {
     "name": "stdout",
     "output_type": "stream",
     "text": [
      "The reversed string is: nohtyP\n"
     ]
    }
   ],
   "source": [
    "# 9. String Reversal:\n",
    "# Write a Python function to reverse a given string.\n",
    "\n",
    "def reverse_string(input_string):\n",
    "    return input_string[::-1]\n",
    "\n",
    "# Example usage:\n",
    "sample_string = \"Python\"\n",
    "reversed_string_result = reverse_string(sample_string)\n",
    "print(f\"The reversed string is: {reversed_string_result}\")"
   ]
  },
  {
   "cell_type": "code",
   "execution_count": 27,
   "id": "a9117fd6",
   "metadata": {},
   "outputs": [
    {
     "name": "stdout",
     "output_type": "stream",
     "text": [
      "The sum of squares is: 30\n"
     ]
    }
   ],
   "source": [
    "# 10. Sum of Squares:\n",
    "# Implement a Python function to calculate the sum of squares of numbers in a list.\n",
    "\n",
    "def sum_of_squares(input_list):\n",
    "        \n",
    "    # Use a list comprehension to calculate the squares\n",
    "    squared_values = [x**2 for x in input_list]\n",
    "    \n",
    "    # Calculate the sum of squared values\n",
    "    sum_of_squares_result = sum(squared_values)\n",
    "    \n",
    "    return sum_of_squares_result\n",
    "\n",
    "# Example usage:\n",
    "sample_list = [1, 2, 3, 4]\n",
    "\n",
    "# Calculate the sum of squares\n",
    "result = sum_of_squares(sample_list)\n",
    "\n",
    "print(f\"The sum of squares is: {result}\")\n"
   ]
  },
  {
   "cell_type": "code",
   "execution_count": 33,
   "id": "0559b595",
   "metadata": {},
   "outputs": [
    {
     "name": "stdout",
     "output_type": "stream",
     "text": [
      "23 is a prime number.\n"
     ]
    }
   ],
   "source": [
    "# 11. Prime Number Check:\n",
    "# Write a Python function to check if a given number is a prime number.\n",
    "\n",
    "def is_prime(number):\n",
    "    if number < 2:\n",
    "        return False  # Numbers less than 2 are not prime\n",
    "    \n",
    "    for i in range(2, int(number/2) + 1):\n",
    "        if number % i == 0:\n",
    "            return False  # Found a factor other than 1 and itself\n",
    "    \n",
    "    return True  # No factors other than 1 and itself\n",
    "\n",
    "# Example usage:\n",
    "sample_number = 23\n",
    "result = is_prime(sample_number)\n",
    "\n",
    "if result:\n",
    "    print(f\"{sample_number} is a prime number.\")\n",
    "else:\n",
    "    print(f\"{sample_number} is not a prime number.\")"
   ]
  },
  {
   "cell_type": "code",
   "execution_count": 35,
   "id": "8bb893bf",
   "metadata": {},
   "outputs": [
    {
     "name": "stdout",
     "output_type": "stream",
     "text": [
      "The intersection of the lists is: [3, 4, 5]\n"
     ]
    }
   ],
   "source": [
    "# 12. List Intersection:\n",
    "# Implement a Python function to find the intersection of two lists.\n",
    "\n",
    "def find_intersection(list1, list2):\n",
    "    return list(set(list1) & set(list2))\n",
    "\n",
    "# Example usage:\n",
    "list1 = [1, 2, 3, 4, 5]\n",
    "list2 = [3, 4, 5, 6, 7]\n",
    "intersection_result = find_intersection(list1, list2)\n",
    "print(f\"The intersection of the lists is: {intersection_result}\")"
   ]
  },
  {
   "cell_type": "code",
   "execution_count": 37,
   "id": "863769cb",
   "metadata": {},
   "outputs": [
    {
     "name": "stdout",
     "output_type": "stream",
     "text": [
      "Odd numbers: [1, 3, 5, 7, 9]\n",
      "Even numbers: [2, 4, 6, 8]\n"
     ]
    }
   ],
   "source": [
    "# 13. Odd and Even Lists:\n",
    "# Write a Python function to separate odd and even numbers into two lists.\n",
    "\n",
    "def separate_odd_even(numbers):\n",
    "    odd_numbers = [num for num in numbers if num % 2 != 0]\n",
    "    even_numbers = [num for num in numbers if num % 2 == 0]\n",
    "    return odd_numbers, even_numbers\n",
    "\n",
    "# Example usage:\n",
    "input_numbers = [1, 2, 3, 4, 5, 6, 7, 8, 9]\n",
    "odd_numbers, even_numbers = separate_odd_even(input_numbers)\n",
    "\n",
    "print(f\"Odd numbers: {odd_numbers}\")\n",
    "print(f\"Even numbers: {even_numbers}\")"
   ]
  },
  {
   "cell_type": "code",
   "execution_count": 41,
   "id": "399e5396",
   "metadata": {},
   "outputs": [
    {
     "name": "stdout",
     "output_type": "stream",
     "text": [
      "The string 'FARHAD' contains only uppercase letters.\n"
     ]
    }
   ],
   "source": [
    "# 14. String Uppercase Check:\n",
    "# Implement a Python function to check if a given string contains only uppercase letters.\n",
    "\n",
    "\n",
    "def is_uppercase(input_string):\n",
    "    return all(char.isupper() for char in input_string)\n",
    "\n",
    "# Example usage:\n",
    "sample_string = \"FARHAD\"\n",
    "result = is_uppercase(sample_string)\n",
    "\n",
    "if result:\n",
    "    print(f\"The string '{sample_string}' contains only uppercase letters.\")\n",
    "else:\n",
    "    print(f\"The string '{sample_string}' does not contain only uppercase letters.\")"
   ]
  },
  {
   "cell_type": "code",
   "execution_count": 42,
   "id": "48daaba0",
   "metadata": {},
   "outputs": [
    {
     "name": "stdout",
     "output_type": "stream",
     "text": [
      "The list after removing duplicates is: [1, 2, 3, 4, 5]\n"
     ]
    }
   ],
   "source": [
    "# 15. Remove Duplicates:\n",
    "# Write a Python function to remove duplicates from a list.\n",
    "\n",
    "def remove_duplicates(input_list):\n",
    "    return list(set(input_list))\n",
    "\n",
    "# Example usage:\n",
    "sample_list = [1, 2, 2, 3, 4, 4, 5]\n",
    "unique_elements = remove_duplicates(sample_list)\n",
    "print(f\"The list after removing duplicates is: {unique_elements}\")"
   ]
  },
  {
   "cell_type": "code",
   "execution_count": 51,
   "id": "8eda19a7",
   "metadata": {},
   "outputs": [
    {
     "name": "stdout",
     "output_type": "stream",
     "text": [
      "[[6, 8], [10, 12]]\n"
     ]
    }
   ],
   "source": [
    "# 16. Matrix Addition:\n",
    "# Implement a Python function to add two matrices.\n",
    "\n",
    "def add_matrices(matrix1, matrix2):\n",
    "    result = []\n",
    "\n",
    "    for i in range(len(matrix1)):\n",
    "        row_result = [matrix1[i][j] + matrix2[i][j] for j in range(len(matrix1[0]))]\n",
    "        result.append(row_result)\n",
    "\n",
    "    return result\n",
    "\n",
    "# Sample Input\n",
    "matrix1 = [[1, 2], [3, 4]]\n",
    "matrix2 = [[5, 6], [7, 8]]\n",
    "\n",
    "# Sample Output\n",
    "result_matrix = add_matrices(matrix1, matrix2)\n",
    "print(result_matrix)"
   ]
  },
  {
   "cell_type": "code",
   "execution_count": 60,
   "id": "fd831885",
   "metadata": {},
   "outputs": [],
   "source": [
    "# 17. Count Occurrences:\n",
    "# Write a Python function to count the occurrences of each element in a list.\n",
    "\n"
   ]
  },
  {
   "cell_type": "code",
   "execution_count": 55,
   "id": "07f86bb3",
   "metadata": {},
   "outputs": [
    {
     "name": "stdout",
     "output_type": "stream",
     "text": [
      "Listen and Silent are anagrams.\n"
     ]
    }
   ],
   "source": [
    "# 18. Check Anagrams:\n",
    "# Implement a Python function to check if two strings are anagrams.\n",
    "\n",
    "def are_anagrams(str1, str2):\n",
    "    # Remove spaces and convert to lowercase for case-insensitive comparison\n",
    "    str1 = str1.replace(\" \", \"\").lower()\n",
    "    str2 = str2.replace(\" \", \"\").lower()\n",
    "\n",
    "    # Check if sorted characters of both strings are the same\n",
    "    return sorted(str1) == sorted(str2)\n",
    "\n",
    "# Example usage:\n",
    "string1 = \"Listen\"\n",
    "string2 = \"Silent\"\n",
    "result = are_anagrams(string1, string2)\n",
    "\n",
    "if result:\n",
    "    print(f\"{string1} and {string2} are anagrams.\")\n",
    "else:\n",
    "    print(f\"{string1} and {string2} are not anagrams.\")"
   ]
  },
  {
   "cell_type": "code",
   "execution_count": null,
   "id": "5444f479",
   "metadata": {},
   "outputs": [],
   "source": [
    "# 19. Matrix Transposition:\n",
    "# Write a Python function to transpose a matrix.\n"
   ]
  },
  {
   "cell_type": "code",
   "execution_count": 62,
   "id": "dcf12c0a",
   "metadata": {},
   "outputs": [
    {
     "name": "stdout",
     "output_type": "stream",
     "text": [
      "The decimal equivalent of binary number 1101 is: 13\n"
     ]
    }
   ],
   "source": [
    "# 20. Binary to Decimal Conversion:\n",
    "# Implement a Python function to convert a binary number to decimal.\n",
    "\n",
    "def binary_to_decimal(binary_number):\n",
    "    return int(binary_number, 2)\n",
    "\n",
    "# Example usage:\n",
    "binary_number = \"1101\"\n",
    "decimal_result = binary_to_decimal(binary_number)\n",
    "print(f\"The decimal equivalent of binary number {binary_number} is: {decimal_result}\")"
   ]
  },
  {
   "cell_type": "code",
   "execution_count": null,
   "id": "9ba20865",
   "metadata": {},
   "outputs": [],
   "source": []
  }
 ],
 "metadata": {
  "kernelspec": {
   "display_name": "Python 3",
   "language": "python",
   "name": "python3"
  },
  "language_info": {
   "codemirror_mode": {
    "name": "ipython",
    "version": 3
   },
   "file_extension": ".py",
   "mimetype": "text/x-python",
   "name": "python",
   "nbconvert_exporter": "python",
   "pygments_lexer": "ipython3",
   "version": "3.8.8"
  }
 },
 "nbformat": 4,
 "nbformat_minor": 5
}
