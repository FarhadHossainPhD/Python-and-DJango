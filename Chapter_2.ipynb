{
 "cells": [
  {
   "cell_type": "markdown",
   "id": "86ee973f",
   "metadata": {},
   "source": [
    "# Class 2, Date Nov 16, 2023"
   ]
  },
  {
   "cell_type": "markdown",
   "id": "e0db9819",
   "metadata": {},
   "source": [
    "## 1_Basic Syntax Comments"
   ]
  },
  {
   "cell_type": "code",
   "execution_count": 1,
   "id": "1d9053ff",
   "metadata": {},
   "outputs": [
    {
     "name": "stdout",
     "output_type": "stream",
     "text": [
      "Hello, World\n"
     ]
    }
   ],
   "source": [
    "### Single-Line Comments:\n",
    "\n",
    "# This is a single-line comment\n",
    "print(\"Hello, World\") #This is another comment"
   ]
  },
  {
   "cell_type": "code",
   "execution_count": 2,
   "id": "a6a76e13",
   "metadata": {},
   "outputs": [
    {
     "name": "stdout",
     "output_type": "stream",
     "text": [
      "Hello, World\n",
      "Python is awesome\n"
     ]
    }
   ],
   "source": [
    "### Multi-Line Comments\n",
    "\"\"\"\n",
    "This is a multi-line comment\n",
    "that spans multiple lines\n",
    "\"\"\"\n",
    "print(\"Hello, World\")\n",
    "\n",
    "\"\"\"\n",
    "Another way to create a multi-line comment\n",
    "using triple-double-quotes\n",
    "\"\"\"\n",
    "print(\"Python is awesome\")\n"
   ]
  },
  {
   "cell_type": "code",
   "execution_count": 3,
   "id": "de77a090",
   "metadata": {},
   "outputs": [],
   "source": [
    "### Best Practices for Comments:\n",
    "\n",
    "# 1. **Be Clear and Concise:** Comments should provide useful information without being overly verbose.\n",
    "# 2. **Update Comments:** If you modify your code, make sure to update the comments accordingly to keep them accurate.\n",
    "# 3. **Avoid Redundancy:** Write comments for code that needs clarification; avoid commenting on every line if the code is self-explanatory.\n",
    "# 4. **Follow Style Guides:** Adhere to Python style guides (e.g., PEP 8) for consistent and readable code.\n",
    "# 5. **Use Meaningful Names:** Good variable and function names can reduce the need for excessive comments."
   ]
  },
  {
   "cell_type": "code",
   "execution_count": 5,
   "id": "62993236",
   "metadata": {},
   "outputs": [
    {
     "name": "stdout",
     "output_type": "stream",
     "text": [
      "Enter a number: 5\n",
      "The square of 5.0 is: 25.0\n"
     ]
    }
   ],
   "source": [
    "\n",
    "# This script calculates the square of a given number\n",
    "# Get user input\n",
    "\n",
    "def square(number):\n",
    "    '''\n",
    "    This function takes a number as input\n",
    "    and returns its square\n",
    "    '''\n",
    "    return number**2\n",
    "# Get user input\n",
    "user_input = float(input(\"Enter a number: \"))\n",
    "\n",
    "#Calculate and display the square\n",
    "result = square(user_input)\n",
    "print(f\"The square of {user_input} is: {result}\")"
   ]
  },
  {
   "cell_type": "markdown",
   "id": "9f2113b3",
   "metadata": {},
   "source": [
    "## 2_String Values"
   ]
  },
  {
   "cell_type": "code",
   "execution_count": 6,
   "id": "c2af0b1a",
   "metadata": {},
   "outputs": [],
   "source": [
    "### 1. **Definition and Declaration:**\n",
    "\n",
    "single_quoted = 'This is a string'\n",
    "double_quoted = \"This is also a string\"\n",
    "triple_quoted = '''This is a\n",
    "Multi-line\n",
    "string\n",
    "'''"
   ]
  },
  {
   "cell_type": "code",
   "execution_count": 7,
   "id": "59afdd57",
   "metadata": {},
   "outputs": [
    {
     "name": "stdout",
     "output_type": "stream",
     "text": [
      "Hello World\n"
     ]
    }
   ],
   "source": [
    "### 2. **String Operations:**\n",
    "\n",
    "str1 = \"Hello\"\n",
    "str2 = \"World\"\n",
    "result = str1+\" \"+str2\n",
    "print(result)"
   ]
  },
  {
   "cell_type": "code",
   "execution_count": 8,
   "id": "c46cfcb3",
   "metadata": {},
   "outputs": [
    {
     "name": "stdout",
     "output_type": "stream",
     "text": [
      "P\n"
     ]
    }
   ],
   "source": [
    "### 3. **Accessing Characters:**\n",
    "\n",
    "my_string = \"Python\"\n",
    "first_char = my_string[0]\n",
    "print(first_char)"
   ]
  },
  {
   "cell_type": "code",
   "execution_count": 10,
   "id": "025e85e6",
   "metadata": {},
   "outputs": [
    {
     "data": {
      "text/plain": [
       "'ing'"
      ]
     },
     "execution_count": 10,
     "metadata": {},
     "output_type": "execute_result"
    }
   ],
   "source": [
    "### 4. **String Slicing:**\n",
    "\n",
    "my_string = \"Programming\"\n",
    "subsrting = my_string[8:11]\n",
    "subsrting"
   ]
  },
  {
   "cell_type": "code",
   "execution_count": 13,
   "id": "32ce72f4",
   "metadata": {},
   "outputs": [],
   "source": [
    "### 5. **String Methods:**\n",
    "\n",
    "# - `len()`: Returns the length of the string.\n",
    "# - `lower()`: Converts the string to lowercase.\n",
    "# - `upper()`: Converts the string to uppercase.\n",
    "# - `strip()`: Removes leading and trailing whitespace.\n",
    "# - `replace(old, new)`: Replaces occurrences of the old substring with the new substring.\n",
    "# - `find(substring)`: Returns the index of the first occurrence of the substring or -1 if not found.\n"
   ]
  },
  {
   "cell_type": "code",
   "execution_count": 12,
   "id": "85c089a6",
   "metadata": {},
   "outputs": [
    {
     "data": {
      "text/plain": [
       "'My name is Alice and I am 30 years old.'"
      ]
     },
     "execution_count": 12,
     "metadata": {},
     "output_type": "execute_result"
    }
   ],
   "source": [
    "### 6. **String Formatting:**\n",
    "\n",
    "name = \"Alice\"\n",
    "age = 30\n",
    "formatted_string = f\"My name is {name} and I am {age} years old.\"\n",
    "formatted_string"
   ]
  },
  {
   "cell_type": "code",
   "execution_count": 14,
   "id": "e6ca0496",
   "metadata": {},
   "outputs": [],
   "source": [
    "### 7. **Immutable Nature:**\n",
    "# immutable, meaning that once a string is created, it cannot be modified"
   ]
  },
  {
   "cell_type": "code",
   "execution_count": 15,
   "id": "b97b4251",
   "metadata": {},
   "outputs": [
    {
     "data": {
      "text/plain": [
       "'Hello World'"
      ]
     },
     "execution_count": 15,
     "metadata": {},
     "output_type": "execute_result"
    }
   ],
   "source": [
    "### 8. **Escape Characters:**\n",
    "\n",
    "string1 = \"Hello\"\n",
    "string2 = 'World'\n",
    "combination_string = string1+ \" \" + string2\n",
    "combination_string"
   ]
  },
  {
   "cell_type": "code",
   "execution_count": 17,
   "id": "e54b7760",
   "metadata": {},
   "outputs": [
    {
     "data": {
      "text/plain": [
       "('P', 'Programming')"
      ]
     },
     "execution_count": 17,
     "metadata": {},
     "output_type": "execute_result"
    }
   ],
   "source": [
    "# String indexing and slicing\n",
    "\n",
    "example_string = \"Python Programming\"\n",
    "first_char = example_string[0]\n",
    "substring = example_string[7:18]\n",
    "first_char, substring"
   ]
  },
  {
   "cell_type": "code",
   "execution_count": 18,
   "id": "1bf1e80d",
   "metadata": {},
   "outputs": [
    {
     "data": {
      "text/plain": [
       "(18, 'python programming', 'PYTHON PROGRAMMING')"
      ]
     },
     "execution_count": 18,
     "metadata": {},
     "output_type": "execute_result"
    }
   ],
   "source": [
    "# String methods\n",
    "\n",
    "length = len(example_string)\n",
    "lowercase = example_string.lower()\n",
    "uppercase = example_string.upper()\n",
    "length, lowercase, uppercase"
   ]
  },
  {
   "cell_type": "code",
   "execution_count": 19,
   "id": "d98fb300",
   "metadata": {},
   "outputs": [
    {
     "data": {
      "text/plain": [
       "'My name is Alice and I am 30 years old.'"
      ]
     },
     "execution_count": 19,
     "metadata": {},
     "output_type": "execute_result"
    }
   ],
   "source": [
    "# String formatting\n",
    "\n",
    "name = \"Alice\"\n",
    "age = 30\n",
    "formatted_string = f\"My name is {name} and I am {age} years old.\"\n",
    "formatted_string"
   ]
  },
  {
   "cell_type": "markdown",
   "id": "5c0c566c",
   "metadata": {},
   "source": [
    "## 3_String Methods"
   ]
  },
  {
   "cell_type": "code",
   "execution_count": 20,
   "id": "bd2f995d",
   "metadata": {},
   "outputs": [
    {
     "data": {
      "text/plain": [
       "13"
      ]
     },
     "execution_count": 20,
     "metadata": {},
     "output_type": "execute_result"
    }
   ],
   "source": [
    "### 1. **len()**\n",
    "\n",
    "my_string = \"Hello, World!\"\n",
    "length = len(my_string) \n",
    "length"
   ]
  },
  {
   "cell_type": "code",
   "execution_count": 21,
   "id": "aef15e4f",
   "metadata": {},
   "outputs": [
    {
     "data": {
      "text/plain": [
       "('hello, world!', 'HELLO, WORLD!')"
      ]
     },
     "execution_count": 21,
     "metadata": {},
     "output_type": "execute_result"
    }
   ],
   "source": [
    "### 2. **lower() and upper()**\n",
    "\n",
    "my_string = \"Hello, World!\"\n",
    "lowercase = my_string.lower()\n",
    "uppercase = my_string.upper()\n",
    "lowercase, uppercase"
   ]
  },
  {
   "cell_type": "code",
   "execution_count": 22,
   "id": "4e49a03d",
   "metadata": {},
   "outputs": [
    {
     "data": {
      "text/plain": [
       "'Hello, World!'"
      ]
     },
     "execution_count": 22,
     "metadata": {},
     "output_type": "execute_result"
    }
   ],
   "source": [
    "### 3. **strip()**\n",
    "\n",
    "my_string = \" Hello, World! \"\n",
    "stripper_string = my_string.strip()\n",
    "stripper_string"
   ]
  },
  {
   "cell_type": "code",
   "execution_count": 23,
   "id": "172f3895",
   "metadata": {},
   "outputs": [
    {
     "data": {
      "text/plain": [
       "'Hi, World!'"
      ]
     },
     "execution_count": 23,
     "metadata": {},
     "output_type": "execute_result"
    }
   ],
   "source": [
    "### 4. **replace(old, new)**\n",
    "\n",
    "my_string = \"Hello, World!\"\n",
    "new_string = my_string.replace(\"Hello\", \"Hi\")\n",
    "new_string"
   ]
  },
  {
   "cell_type": "code",
   "execution_count": 24,
   "id": "2bd38226",
   "metadata": {},
   "outputs": [
    {
     "data": {
      "text/plain": [
       "7"
      ]
     },
     "execution_count": 24,
     "metadata": {},
     "output_type": "execute_result"
    }
   ],
   "source": [
    "### 5. **find(substring)**\n",
    "\n",
    "my_string = \"Hello, World!\"\n",
    "index = my_string.find(\"World\")\n",
    "index"
   ]
  },
  {
   "cell_type": "code",
   "execution_count": 25,
   "id": "274c34e3",
   "metadata": {},
   "outputs": [
    {
     "data": {
      "text/plain": [
       "4"
      ]
     },
     "execution_count": 25,
     "metadata": {},
     "output_type": "execute_result"
    }
   ],
   "source": [
    "### 6. **count(substring)**\n",
    "\n",
    "my_string = \"abcaabcba\"\n",
    "count = my_string.count(\"a\")\n",
    "count"
   ]
  },
  {
   "cell_type": "code",
   "execution_count": 28,
   "id": "be513d28",
   "metadata": {},
   "outputs": [
    {
     "data": {
      "text/plain": [
       "(True, True)"
      ]
     },
     "execution_count": 28,
     "metadata": {},
     "output_type": "execute_result"
    }
   ],
   "source": [
    "### 7. **startswith(prefix) and endswith(suffix)**\n",
    "\n",
    "my_string = \"Hello World!\"\n",
    "starts_with_hello = my_string.startswith(\"Hello\")\n",
    "ends_with_hello = my_string.endswith(\"World!\")\n",
    "starts_with_hello, ends_with_hello"
   ]
  },
  {
   "cell_type": "code",
   "execution_count": 29,
   "id": "9dfcc905",
   "metadata": {},
   "outputs": [
    {
     "data": {
      "text/plain": [
       "['apple', 'orange', 'banana']"
      ]
     },
     "execution_count": 29,
     "metadata": {},
     "output_type": "execute_result"
    }
   ],
   "source": [
    "### 8. **split(separator)**\n",
    "\n",
    "my_string = \"apple,orange,banana\"\n",
    "fruit_list = my_string.split(\",\")\n",
    "fruit_list"
   ]
  },
  {
   "cell_type": "code",
   "execution_count": 30,
   "id": "ba9e587b",
   "metadata": {},
   "outputs": [
    {
     "data": {
      "text/plain": [
       "'apple,orange,banana'"
      ]
     },
     "execution_count": 30,
     "metadata": {},
     "output_type": "execute_result"
    }
   ],
   "source": [
    "### 9. **join(iterable)**\n",
    "\n",
    "\n",
    "fruits =['apple','orange','banana']\n",
    "joined_string = \",\".join(fruits)\n",
    "joined_string"
   ]
  },
  {
   "cell_type": "code",
   "execution_count": 31,
   "id": "fac385d4",
   "metadata": {},
   "outputs": [
    {
     "data": {
      "text/plain": [
       "'My name is Alice and I am 30 years old.'"
      ]
     },
     "execution_count": 31,
     "metadata": {},
     "output_type": "execute_result"
    }
   ],
   "source": [
    "### 10. **format()**\n",
    "\n",
    "\n",
    "name = \"Alice\"\n",
    "age = 30\n",
    "formatted_string = \"My name is {} and I am {} years old.\".format(name, age)\n",
    "formatted_string"
   ]
  },
  {
   "cell_type": "code",
   "execution_count": 32,
   "id": "853d2a3b",
   "metadata": {},
   "outputs": [
    {
     "data": {
      "text/plain": [
       "(True, True)"
      ]
     },
     "execution_count": 32,
     "metadata": {},
     "output_type": "execute_result"
    }
   ],
   "source": [
    "### 11. **startswith(prefix) and endswith(suffix)**\n",
    "\n",
    "\n",
    "my_string = \"Hello, World!\"\n",
    "starts_with_hello = my_string.startswith(\"Hello\")\n",
    "ends_with_world = my_string.endswith(\"World!\")\n",
    "starts_with_hello, ends_with_world"
   ]
  },
  {
   "cell_type": "markdown",
   "id": "f2c9db8d",
   "metadata": {},
   "source": [
    "## 4_The format Method"
   ]
  },
  {
   "cell_type": "code",
   "execution_count": 3,
   "id": "b2ce50f3",
   "metadata": {},
   "outputs": [
    {
     "data": {
      "text/plain": [
       "'My name is Jhon and I am 25 years old'"
      ]
     },
     "execution_count": 3,
     "metadata": {},
     "output_type": "execute_result"
    }
   ],
   "source": [
    "### Basic Usage:\n",
    "\n",
    "name = \"Jhon\"\n",
    "age = 25\n",
    "formatted_string = \"My name is {} and I am {} years old\".format(name, age)\n",
    "formatted_string"
   ]
  },
  {
   "cell_type": "code",
   "execution_count": 6,
   "id": "506db912",
   "metadata": {},
   "outputs": [
    {
     "data": {
      "text/plain": [
       "'Hello, Alice!'"
      ]
     },
     "execution_count": 6,
     "metadata": {},
     "output_type": "execute_result"
    }
   ],
   "source": [
    "### Positional Arguments:\n",
    "\n",
    "greeting =\"Hello\"\n",
    "name = \"Alice\"\n",
    "\n",
    "formatted_string = \"{}, {}!\".format(greeting, name)\n",
    "formatted_string"
   ]
  },
  {
   "cell_type": "code",
   "execution_count": 8,
   "id": "9ff5e7ab",
   "metadata": {},
   "outputs": [
    {
     "data": {
      "text/plain": [
       "'My name is Bob and I am 30 years old.'"
      ]
     },
     "execution_count": 8,
     "metadata": {},
     "output_type": "execute_result"
    }
   ],
   "source": [
    "### Named Arguments:\n",
    "\n",
    "formatted_string = \"My name is {name} and I am {age} years old.\".format(name=\"Bob\", age = 30)\n",
    "formatted_string"
   ]
  },
  {
   "cell_type": "code",
   "execution_count": 9,
   "id": "62f01647",
   "metadata": {},
   "outputs": [
    {
     "data": {
      "text/plain": [
       "'Apple is a fruit.'"
      ]
     },
     "execution_count": 9,
     "metadata": {},
     "output_type": "execute_result"
    }
   ],
   "source": [
    "### Index-based Formatting:\n",
    "\n",
    "formatted_string = \"{1} is a {0}.\".format(\"fruit\",\"Apple\")\n",
    "formatted_string"
   ]
  },
  {
   "cell_type": "code",
   "execution_count": 11,
   "id": "d1b1a056",
   "metadata": {},
   "outputs": [
    {
     "data": {
      "text/plain": [
       "'The price is $49.95'"
      ]
     },
     "execution_count": 11,
     "metadata": {},
     "output_type": "execute_result"
    }
   ],
   "source": [
    "### Formatting Numbers:\n",
    "\n",
    "price = 49.955\n",
    "formatted_price = \"The price is ${:.2f}\".format(price)\n",
    "formatted_price"
   ]
  },
  {
   "cell_type": "code",
   "execution_count": 12,
   "id": "9b83b8bc",
   "metadata": {},
   "outputs": [
    {
     "data": {
      "text/plain": [
       "'        42'"
      ]
     },
     "execution_count": 12,
     "metadata": {},
     "output_type": "execute_result"
    }
   ],
   "source": [
    "### Padding and Alignment:\n",
    "\n",
    "formatted_number = \"{:10}\".format(42)\n",
    "formatted_number"
   ]
  },
  {
   "cell_type": "code",
   "execution_count": 13,
   "id": "febc884d",
   "metadata": {},
   "outputs": [
    {
     "data": {
      "text/plain": [
       "'My name is Sam and I am 28 years old.'"
      ]
     },
     "execution_count": 13,
     "metadata": {},
     "output_type": "execute_result"
    }
   ],
   "source": [
    "### F-strings (Python 3.6+):\n",
    "\n",
    "name = \"Sam\"\n",
    "age = 28\n",
    "formatted_string = f\"My name is {name} and I am {age} years old.\"\n",
    "formatted_string"
   ]
  },
  {
   "cell_type": "markdown",
   "id": "27073481",
   "metadata": {},
   "source": [
    "## 5_String Operators"
   ]
  },
  {
   "cell_type": "code",
   "execution_count": 15,
   "id": "92b41700",
   "metadata": {},
   "outputs": [
    {
     "data": {
      "text/plain": [
       "'Hello World!'"
      ]
     },
     "execution_count": 15,
     "metadata": {},
     "output_type": "execute_result"
    }
   ],
   "source": [
    "### 1. **Concatenation Operator `+`**:\n",
    "\n",
    "str1 = \"Hello\"\n",
    "str2 = \"World!\"\n",
    "\n",
    "result = str1+ \" \"+str2\n",
    "result"
   ]
  },
  {
   "cell_type": "code",
   "execution_count": 16,
   "id": "f20e73da",
   "metadata": {},
   "outputs": [
    {
     "data": {
      "text/plain": [
       "'abcabcabc'"
      ]
     },
     "execution_count": 16,
     "metadata": {},
     "output_type": "execute_result"
    }
   ],
   "source": [
    "### 2. **Repetition Operator `*`**:\n",
    "\n",
    "original_str = \"abc\"\n",
    "repeated_str = original_str*3\n",
    "repeated_str"
   ]
  },
  {
   "cell_type": "code",
   "execution_count": 17,
   "id": "49deeffa",
   "metadata": {},
   "outputs": [
    {
     "data": {
      "text/plain": [
       "(False, True)"
      ]
     },
     "execution_count": 17,
     "metadata": {},
     "output_type": "execute_result"
    }
   ],
   "source": [
    "### 3. **Membership Operators (`in` and `not in`)**:\n",
    "\n",
    "my_string = \"Python\"\n",
    "contains_py = \"py\" in my_string\n",
    "not_contains_java = \"Java\" not in my_string\n",
    "\n",
    "contains_py, not_contains_java"
   ]
  },
  {
   "cell_type": "code",
   "execution_count": 18,
   "id": "9e5302f2",
   "metadata": {},
   "outputs": [
    {
     "data": {
      "text/plain": [
       "(False, True)"
      ]
     },
     "execution_count": 18,
     "metadata": {},
     "output_type": "execute_result"
    }
   ],
   "source": [
    "### 4. **Comparison Operators (`==`, `!=`, `<`, `>`, `<=`, `>=`)**:\n",
    "\n",
    "str1 = \"apple\"\n",
    "str2 = \"banana\"\n",
    "\n",
    "is_equal = (str1 == str2)\n",
    "is_not_equal = (str1 != str2)\n",
    "\n",
    "is_equal, is_not_equal"
   ]
  },
  {
   "cell_type": "code",
   "execution_count": 19,
   "id": "099bd326",
   "metadata": {},
   "outputs": [
    {
     "data": {
      "text/plain": [
       "('P', 'yth')"
      ]
     },
     "execution_count": 19,
     "metadata": {},
     "output_type": "execute_result"
    }
   ],
   "source": [
    "### 5. **Indexing and Slicing**:\n",
    "\n",
    "my_string =\"Python\"\n",
    "first_char = my_string[0]\n",
    "substring = my_string[1:4]\n",
    "\n",
    "first_char, substring"
   ]
  },
  {
   "cell_type": "code",
   "execution_count": 22,
   "id": "e1495868",
   "metadata": {},
   "outputs": [
    {
     "data": {
      "text/plain": [
       "('Hello World', 'abcabcabc')"
      ]
     },
     "execution_count": 22,
     "metadata": {},
     "output_type": "execute_result"
    }
   ],
   "source": [
    "### 6. **Augmented Assignment Operators (`+=`, `*=`)**:\n",
    "\n",
    "str1 = \"Hello\"\n",
    "str1 += \" World\"\n",
    "\n",
    "repeated_str = \"abc\"\n",
    "repeated_str*= 3\n",
    "\n",
    "str1, repeated_str"
   ]
  },
  {
   "cell_type": "code",
   "execution_count": 24,
   "id": "d946b152",
   "metadata": {},
   "outputs": [
    {
     "data": {
      "text/plain": [
       "('C:\\new\\x0colder', 'C:new\\\\folder')"
      ]
     },
     "execution_count": 24,
     "metadata": {},
     "output_type": "execute_result"
    }
   ],
   "source": [
    "### 7. **Raw String (`r` or `R`)**: \n",
    "\n",
    "\n",
    "regular_string = \"C:\\new\\folder\"\n",
    "raw_string = r\"C:new\\folder\"\n",
    "\n",
    "regular_string, raw_string"
   ]
  },
  {
   "cell_type": "code",
   "execution_count": 25,
   "id": "854d5195",
   "metadata": {},
   "outputs": [
    {
     "data": {
      "text/plain": [
       "'My name is Alice and I am 30 years old.'"
      ]
     },
     "execution_count": 25,
     "metadata": {},
     "output_type": "execute_result"
    }
   ],
   "source": [
    "### 8. **String Formatting (`%`)**:\n",
    "\n",
    "name = \"Alice\"\n",
    "age  = 30\n",
    "\n",
    "formatted_string = \"My name is %s and I am %d years old.\" %(name, age)\n",
    "formatted_string"
   ]
  },
  {
   "cell_type": "code",
   "execution_count": 26,
   "id": "152612f3",
   "metadata": {},
   "outputs": [
    {
     "data": {
      "text/plain": [
       "'My name is Bob and I am 25 years old.'"
      ]
     },
     "execution_count": 26,
     "metadata": {},
     "output_type": "execute_result"
    }
   ],
   "source": [
    "### 9. **f-strings (Python 3.6+)**:\n",
    "\n",
    "name = \"Bob\"\n",
    "age = 25\n",
    "\n",
    "formatted_string = f\"My name is {name} and I am {age} years old.\"\n",
    "formatted_string"
   ]
  },
  {
   "cell_type": "markdown",
   "id": "93290d61",
   "metadata": {},
   "source": [
    "## 6_Numeric Data Types"
   ]
  },
  {
   "cell_type": "code",
   "execution_count": 1,
   "id": "44fc62fd",
   "metadata": {},
   "outputs": [
    {
     "data": {
      "text/plain": [
       "(10, -5)"
      ]
     },
     "execution_count": 1,
     "metadata": {},
     "output_type": "execute_result"
    }
   ],
   "source": [
    "### 1. **Integers (`int`):**\n",
    "\n",
    "x = 10\n",
    "y = -5\n",
    "\n",
    "x, y"
   ]
  },
  {
   "cell_type": "code",
   "execution_count": 2,
   "id": "eea88719",
   "metadata": {},
   "outputs": [
    {
     "data": {
      "text/plain": [
       "(3.14, -250.0)"
      ]
     },
     "execution_count": 2,
     "metadata": {},
     "output_type": "execute_result"
    }
   ],
   "source": [
    "### 2. **Floating-Point Numbers (`float`):**\n",
    "\n",
    "a = 3.14\n",
    "b = -2.5e2\n",
    "\n",
    "a,b"
   ]
  },
  {
   "cell_type": "code",
   "execution_count": 3,
   "id": "54f9e1ea",
   "metadata": {},
   "outputs": [
    {
     "data": {
      "text/plain": [
       "(2+3j)"
      ]
     },
     "execution_count": 3,
     "metadata": {},
     "output_type": "execute_result"
    }
   ],
   "source": [
    "### 3. **Complex Numbers (`complex`):**\n",
    "\n",
    "z = 2+3j\n",
    "z"
   ]
  },
  {
   "cell_type": "code",
   "execution_count": 4,
   "id": "cc4c7047",
   "metadata": {},
   "outputs": [
    {
     "data": {
      "text/plain": [
       "(7, 3, 10, 2.5, 1, 25, 2)"
      ]
     },
     "execution_count": 4,
     "metadata": {},
     "output_type": "execute_result"
    }
   ],
   "source": [
    "### 4. **Numeric Operations:**\n",
    "\n",
    "a = 5\n",
    "b = 2\n",
    "\n",
    "addition = a + b\n",
    "subtraction = a-b\n",
    "multiplication =a*b\n",
    "division = a/b\n",
    "modulus = a%b\n",
    "exponentiation = a**b\n",
    "floor_division = a//b\n",
    "\n",
    "addition, subtraction, multiplication, division, modulus, exponentiation, floor_division "
   ]
  },
  {
   "cell_type": "code",
   "execution_count": 5,
   "id": "39d695c3",
   "metadata": {},
   "outputs": [
    {
     "data": {
      "text/plain": [
       "(10, 10.0, (10+0j))"
      ]
     },
     "execution_count": 5,
     "metadata": {},
     "output_type": "execute_result"
    }
   ],
   "source": [
    "### 5. **Conversion Between Numeric Types:**\n",
    "\n",
    "x = 10\n",
    "y = float(x)\n",
    "z = complex(x)\n",
    "\n",
    "x, y, z"
   ]
  },
  {
   "cell_type": "code",
   "execution_count": 6,
   "id": "ef135e23",
   "metadata": {},
   "outputs": [
    {
     "name": "stdout",
     "output_type": "stream",
     "text": [
      "<class 'float'>\n"
     ]
    },
    {
     "data": {
      "text/plain": [
       "3.14"
      ]
     },
     "execution_count": 6,
     "metadata": {},
     "output_type": "execute_result"
    }
   ],
   "source": [
    "### 6. **Type Checking:**\n",
    "\n",
    "num = 3.14\n",
    "print(type(num))\n",
    "\n",
    "num"
   ]
  },
  {
   "cell_type": "code",
   "execution_count": 7,
   "id": "a30d09c2",
   "metadata": {},
   "outputs": [
    {
     "data": {
      "text/plain": [
       "(5.0, 4.605170185988092, 0.0)"
      ]
     },
     "execution_count": 7,
     "metadata": {},
     "output_type": "execute_result"
    }
   ],
   "source": [
    "### 7. **Math Module:**\n",
    "\n",
    "import math\n",
    "\n",
    "square_root = math.sqrt(25)\n",
    "logarithm = math.log(100)\n",
    "trig_function = math.sin(0)\n",
    "\n",
    "square_root, logarithm, trig_function"
   ]
  },
  {
   "cell_type": "code",
   "execution_count": 13,
   "id": "1181da84",
   "metadata": {},
   "outputs": [
    {
     "data": {
      "text/plain": [
       "5"
      ]
     },
     "execution_count": 13,
     "metadata": {},
     "output_type": "execute_result"
    }
   ],
   "source": [
    "### 8. **Random Module:**\n",
    "\n",
    "import random\n",
    "\n",
    "random_number = random.randint(1, 10)\n",
    "\n",
    "random_number"
   ]
  },
  {
   "cell_type": "code",
   "execution_count": 14,
   "id": "fe4c7539",
   "metadata": {},
   "outputs": [
    {
     "data": {
      "text/plain": [
       "Decimal('0.3')"
      ]
     },
     "execution_count": 14,
     "metadata": {},
     "output_type": "execute_result"
    }
   ],
   "source": [
    "### 9. **Decimal Module:**\n",
    "\n",
    "from decimal import Decimal\n",
    "\n",
    "a = Decimal('0.1')\n",
    "b = Decimal('0.2')\n",
    "\n",
    "result = a + b\n",
    "\n",
    "\n",
    "result"
   ]
  },
  {
   "cell_type": "code",
   "execution_count": 16,
   "id": "81e6f163",
   "metadata": {},
   "outputs": [
    {
     "data": {
      "text/plain": [
       "'0.10.2'"
      ]
     },
     "execution_count": 16,
     "metadata": {},
     "output_type": "execute_result"
    }
   ],
   "source": [
    "### 9. **Decimal Module:**\n",
    "\n",
    "#from decimal import Decimal\n",
    "\n",
    "a = '0.1'\n",
    "b = '0.2'\n",
    "\n",
    "c = a + b\n",
    "\n",
    "\n",
    "c"
   ]
  },
  {
   "cell_type": "code",
   "execution_count": 17,
   "id": "3ffda6a9",
   "metadata": {},
   "outputs": [
    {
     "data": {
      "text/plain": [
       "0.30000000000000004"
      ]
     },
     "execution_count": 17,
     "metadata": {},
     "output_type": "execute_result"
    }
   ],
   "source": [
    "a = 0.1\n",
    "b = 0.2\n",
    "\n",
    "c = a + b\n",
    "\n",
    "\n",
    "c"
   ]
  },
  {
   "cell_type": "markdown",
   "id": "5ef83015",
   "metadata": {},
   "source": [
    "## 7_Conversion Functions"
   ]
  },
  {
   "cell_type": "code",
   "execution_count": 18,
   "id": "9565e520",
   "metadata": {},
   "outputs": [
    {
     "data": {
      "text/plain": [
       "(3, 42)"
      ]
     },
     "execution_count": 18,
     "metadata": {},
     "output_type": "execute_result"
    }
   ],
   "source": [
    "### 1. **`int()` Function:**\n",
    "\n",
    "x = int(3.14)\n",
    "y = int(\"42\")\n",
    "\n",
    "x, y"
   ]
  },
  {
   "cell_type": "code",
   "execution_count": 19,
   "id": "02b1590b",
   "metadata": {},
   "outputs": [
    {
     "data": {
      "text/plain": [
       "(5.0, 3.14)"
      ]
     },
     "execution_count": 19,
     "metadata": {},
     "output_type": "execute_result"
    }
   ],
   "source": [
    "### 2. **`float()` Function:**\n",
    "\n",
    "a = float(5)\n",
    "b = float(\"3.14\")\n",
    "\n",
    "a, b"
   ]
  },
  {
   "cell_type": "code",
   "execution_count": 20,
   "id": "6f29f4e1",
   "metadata": {},
   "outputs": [
    {
     "data": {
      "text/plain": [
       "'42'"
      ]
     },
     "execution_count": 20,
     "metadata": {},
     "output_type": "execute_result"
    }
   ],
   "source": [
    "### 3. **`str()` Function:**\n",
    "\n",
    "value = 42\n",
    "string_value = str(value)\n",
    "\n",
    "string_value"
   ]
  },
  {
   "cell_type": "code",
   "execution_count": 21,
   "id": "99abe23e",
   "metadata": {},
   "outputs": [
    {
     "data": {
      "text/plain": [
       "(True, False, True)"
      ]
     },
     "execution_count": 21,
     "metadata": {},
     "output_type": "execute_result"
    }
   ],
   "source": [
    "### 4. **`bool()` Function:**\n",
    "\n",
    "x = bool(42)\n",
    "y = bool(0)\n",
    "z = bool(\"Hello\")\n",
    "\n",
    "x, y, z"
   ]
  },
  {
   "cell_type": "code",
   "execution_count": 22,
   "id": "3532ab33",
   "metadata": {},
   "outputs": [
    {
     "data": {
      "text/plain": [
       "(['h', 'e', 'l', 'l', 'o'], ('h', 'e', 'l', 'l', 'o'), {'e', 'h', 'l', 'o'})"
      ]
     },
     "execution_count": 22,
     "metadata": {},
     "output_type": "execute_result"
    }
   ],
   "source": [
    "### 5. **`list()`, `tuple()`, `set()` Functions:**\n",
    "\n",
    "string = \"hello\"\n",
    "list_from_string = list(string)\n",
    "tuple_from_string = tuple(string)\n",
    "set_from_string = set(string)\n",
    "\n",
    "list_from_string, tuple_from_string, set_from_string"
   ]
  },
  {
   "cell_type": "code",
   "execution_count": 28,
   "id": "007d2d73",
   "metadata": {},
   "outputs": [
    {
     "data": {
      "text/plain": [
       "([('a', 1), ('b', 2), ('c', 3)], {'a': 1, 'b': 2, 'c': 3})"
      ]
     },
     "execution_count": 28,
     "metadata": {},
     "output_type": "execute_result"
    }
   ],
   "source": [
    "### 6. **`dict()` Function:**\n",
    "\n",
    "pairs = [(\"a\",1), (\"b\",2), (\"c\",3)]\n",
    "dictionary = dict(pairs)\n",
    "pairs, dictionary"
   ]
  },
  {
   "cell_type": "code",
   "execution_count": 29,
   "id": "a75defb0",
   "metadata": {},
   "outputs": [
    {
     "data": {
      "text/plain": [
       "('a', 97)"
      ]
     },
     "execution_count": 29,
     "metadata": {},
     "output_type": "execute_result"
    }
   ],
   "source": [
    "### 7. **`chr()` and `ord()` Functions:**\n",
    "\n",
    "char_a = chr(97)\n",
    "ascii_code_a = ord('a')\n",
    "\n",
    "char_a, ascii_code_a"
   ]
  },
  {
   "cell_type": "code",
   "execution_count": 30,
   "id": "6d38c5a5",
   "metadata": {},
   "outputs": [
    {
     "data": {
      "text/plain": [
       "('0xff', '0o377')"
      ]
     },
     "execution_count": 30,
     "metadata": {},
     "output_type": "execute_result"
    }
   ],
   "source": [
    "### 8. **`hex()` and `oct()` Functions:**\n",
    "\n",
    "hex_value = hex(255)\n",
    "oct_value = oct(255)\n",
    "\n",
    "hex_value, oct_value"
   ]
  },
  {
   "cell_type": "markdown",
   "id": "f1f2a0ca",
   "metadata": {},
   "source": [
    "## 8_Simple Input and Output The % Method"
   ]
  },
  {
   "cell_type": "code",
   "execution_count": 32,
   "id": "bb86f341",
   "metadata": {},
   "outputs": [
    {
     "data": {
      "text/plain": [
       "'My name is Alice and I am 25 years old.'"
      ]
     },
     "execution_count": 32,
     "metadata": {},
     "output_type": "execute_result"
    }
   ],
   "source": [
    "### Basic Usage:\n",
    "\n",
    "name = \"Alice\"\n",
    "age = 25\n",
    "\n",
    "formatted_string = \"My name is %s and I am %d years old.\"%(name,age)\n",
    "formatted_string"
   ]
  },
  {
   "cell_type": "code",
   "execution_count": 33,
   "id": "70d307e2",
   "metadata": {},
   "outputs": [
    {
     "data": {
      "text/plain": [
       "'Name: Bob, Age:30, Height:6.200000'"
      ]
     },
     "execution_count": 33,
     "metadata": {},
     "output_type": "execute_result"
    }
   ],
   "source": [
    "### Examples:\n",
    "\n",
    "name = \"Bob\"\n",
    "age = 30\n",
    "height = 6.2\n",
    "\n",
    "formatted_string = \"Name: %s, Age:%d, Height:%2f\" %(name, age, height)\n",
    "formatted_string\n"
   ]
  },
  {
   "cell_type": "code",
   "execution_count": 34,
   "id": "9a0740a8",
   "metadata": {},
   "outputs": [
    {
     "data": {
      "text/plain": [
       "'My name is Jhon Doe, and I am 28 years old.'"
      ]
     },
     "execution_count": 34,
     "metadata": {},
     "output_type": "execute_result"
    }
   ],
   "source": [
    "### Multiple Values:\n",
    "\n",
    "first_name = \"Jhon\"\n",
    "last_name = \"Doe\"\n",
    "age = 28\n",
    "\n",
    "full_name = \"My name is %s %s, and I am %d years old.\"%(first_name, last_name, age)\n",
    "\n",
    "full_name"
   ]
  },
  {
   "cell_type": "code",
   "execution_count": 40,
   "id": "6968ec94",
   "metadata": {},
   "outputs": [
    {
     "data": {
      "text/plain": [
       "'Num1: 42, Num2:3.14    '"
      ]
     },
     "execution_count": 40,
     "metadata": {},
     "output_type": "execute_result"
    }
   ],
   "source": [
    "### Padding and Alignment:\n",
    "\n",
    "num1 = 42\n",
    "num2 = 3.14\n",
    "\n",
    "formatted_number = \"Num1: %d, Num2:%-8.2f\" %(num1, num2)\n",
    "\n",
    "formatted_number"
   ]
  },
  {
   "cell_type": "code",
   "execution_count": 41,
   "id": "f88593b2",
   "metadata": {},
   "outputs": [
    {
     "data": {
      "text/plain": [
       "'My name is Alice and I am 25 years old.'"
      ]
     },
     "execution_count": 41,
     "metadata": {},
     "output_type": "execute_result"
    }
   ],
   "source": [
    "### Limitations:\n",
    "\n",
    "name = \"Alice\"\n",
    "age = 25\n",
    "\n",
    "formatted_string = f\"My name is {name} and I am {age} years old.\"\n",
    "\n",
    "formatted_string"
   ]
  },
  {
   "cell_type": "markdown",
   "id": "89654d93",
   "metadata": {},
   "source": [
    "## 9_The print Function"
   ]
  },
  {
   "cell_type": "code",
   "execution_count": 1,
   "id": "28ca1ee2",
   "metadata": {},
   "outputs": [
    {
     "name": "stdout",
     "output_type": "stream",
     "text": [
      "Hello, World!\n"
     ]
    }
   ],
   "source": [
    "### Basic Usage:\n",
    "\n",
    "print(\"Hello, World!\")"
   ]
  },
  {
   "cell_type": "code",
   "execution_count": 2,
   "id": "fe25e803",
   "metadata": {},
   "outputs": [
    {
     "name": "stdout",
     "output_type": "stream",
     "text": [
      "Name: Alice Age: 30\n"
     ]
    }
   ],
   "source": [
    "name = \"Alice\"\n",
    "age = 30\n",
    "\n",
    "print(\"Name:\", name, \"Age:\", age)"
   ]
  },
  {
   "cell_type": "code",
   "execution_count": 3,
   "id": "2480e5ab",
   "metadata": {},
   "outputs": [
    {
     "name": "stdout",
     "output_type": "stream",
     "text": [
      "Value of x is 5, and y is 3.14\n"
     ]
    }
   ],
   "source": [
    "### Formatting Output:\n",
    "\n",
    "x = 5\n",
    "y = 3.14\n",
    "\n",
    "print(\"Value of x is %d, and y is %.2f\"%(x,y))"
   ]
  },
  {
   "cell_type": "code",
   "execution_count": 5,
   "id": "f12a9193",
   "metadata": {},
   "outputs": [
    {
     "name": "stdout",
     "output_type": "stream",
     "text": [
      "This is on one line.This is on the same line\n"
     ]
    }
   ],
   "source": [
    "### End Parameter:\n",
    "\n",
    "print(\"This is on one line.\", end=\"\")\n",
    "print(\"This is on the same line\")"
   ]
  },
  {
   "cell_type": "code",
   "execution_count": 10,
   "id": "60f2f51d",
   "metadata": {},
   "outputs": [
    {
     "name": "stdout",
     "output_type": "stream",
     "text": [
      "10,20\n"
     ]
    }
   ],
   "source": [
    "### Separator Parameter:\n",
    "\n",
    "a = 10\n",
    "b = 20\n",
    "\n",
    "print(a,b, sep =\",\")"
   ]
  },
  {
   "cell_type": "code",
   "execution_count": 14,
   "id": "524e5494",
   "metadata": {},
   "outputs": [],
   "source": [
    "with open(\"output.txt\", \"w\") as file:\n",
    "    print(\"This is written to a file.\", file=file)"
   ]
  },
  {
   "cell_type": "code",
   "execution_count": 15,
   "id": "4dc07d70",
   "metadata": {},
   "outputs": [
    {
     "name": "stderr",
     "output_type": "stream",
     "text": [
      "This is an error message.\n"
     ]
    }
   ],
   "source": [
    "### Printing to Standard Error:\n",
    "\n",
    "import sys\n",
    "\n",
    "print(\"This is an error message.\", file=sys.stderr)"
   ]
  },
  {
   "cell_type": "code",
   "execution_count": 16,
   "id": "955800a5",
   "metadata": {},
   "outputs": [
    {
     "name": "stdout",
     "output_type": "stream",
     "text": [
      "This is on one line.This is still on one same line.\n"
     ]
    }
   ],
   "source": [
    "### Printing Without a Newline:\n",
    "\n",
    "print(\"This is on one line.\", end=\"\")\n",
    "print(\"This is still on one same line.\")\n"
   ]
  },
  {
   "cell_type": "code",
   "execution_count": 17,
   "id": "8d1308b0",
   "metadata": {},
   "outputs": [
    {
     "name": "stdout",
     "output_type": "stream",
     "text": [
      "My name is Bob and I am 25 years old.\n"
     ]
    }
   ],
   "source": [
    "### f-strings:\n",
    "\n",
    "name = \"Bob\"\n",
    "age = 25\n",
    "\n",
    "print(f\"My name is {name} and I am {age} years old.\")"
   ]
  },
  {
   "cell_type": "markdown",
   "id": "2a4b471c",
   "metadata": {},
   "source": [
    "## 10_20 Problems"
   ]
  },
  {
   "cell_type": "code",
   "execution_count": 20,
   "id": "46e115ae",
   "metadata": {},
   "outputs": [
    {
     "data": {
      "text/plain": [
       "'Farhad Hossain'"
      ]
     },
     "execution_count": 20,
     "metadata": {},
     "output_type": "execute_result"
    }
   ],
   "source": [
    "#1. **String Concatenation:**\n",
    "#- Concatenate two strings and print the result.\n",
    "str1 = \"Farhad\"\n",
    "str2 = \"Hossain\"\n",
    "\n",
    "Result = str1 + \" \" + str2\n",
    "\n",
    "Result"
   ]
  },
  {
   "cell_type": "code",
   "execution_count": 22,
   "id": "daa16494",
   "metadata": {},
   "outputs": [
    {
     "name": "stdout",
     "output_type": "stream",
     "text": [
      "Sum of two number: 27\n",
      "subtraction of two number: 13\n",
      "multiplication of two number: 140\n",
      "division of two number: 2.857142857142857\n"
     ]
    }
   ],
   "source": [
    "#2. **Numeric Operations:**\n",
    "#- Perform addition, subtraction, multiplication, and division of two numbers and print the results.\n",
    "\n",
    "number1 = 20\n",
    "number2 = 7\n",
    "\n",
    "print(\"Sum of two number:\", number1+number2)\n",
    "print(\"subtraction of two number:\", number1-number2)\n",
    "print(\"multiplication of two number:\", number1*number2)\n",
    "print(\"division of two number:\", number1/number2)\n"
   ]
  },
  {
   "cell_type": "code",
   "execution_count": 23,
   "id": "f9612f82",
   "metadata": {},
   "outputs": [
    {
     "data": {
      "text/plain": [
       "('F', 'd')"
      ]
     },
     "execution_count": 23,
     "metadata": {},
     "output_type": "execute_result"
    }
   ],
   "source": [
    "#3. **String Indexing:**\n",
    "#- Given a string, print the first and last characters using indexing.\n",
    "\n",
    "my_string = \"Farhad\"\n",
    "first_char = my_string[0]\n",
    "last_char = my_string[-1]\n",
    "\n",
    "first_char, last_char"
   ]
  },
  {
   "cell_type": "code",
   "execution_count": 24,
   "id": "e957d614",
   "metadata": {},
   "outputs": [
    {
     "name": "stdout",
     "output_type": "stream",
     "text": [
      "Enter a number:5\n"
     ]
    },
    {
     "data": {
      "text/plain": [
       "25"
      ]
     },
     "execution_count": 24,
     "metadata": {},
     "output_type": "execute_result"
    }
   ],
   "source": [
    "#4. **Conversion Functions:**\n",
    "#- Take a numeric input from the user and print its square using the `int()` and `print()` functions.\n",
    "\n",
    "input_Value = int(input(\"Enter a number:\"))\n",
    "square_value = input_Value**2\n",
    "\n",
    "square_value"
   ]
  },
  {
   "cell_type": "code",
   "execution_count": 26,
   "id": "8d52d94c",
   "metadata": {},
   "outputs": [
    {
     "data": {
      "text/plain": [
       "'My name is Farhad and I am 36 years old.'"
      ]
     },
     "execution_count": 26,
     "metadata": {},
     "output_type": "execute_result"
    }
   ],
   "source": [
    "#5. **Formatted String:**\n",
    "# - Create a formatted string that includes your name, age, and a brief introduction.\n",
    "\n",
    "name = \"Farhad\"\n",
    "age = 36\n",
    "\n",
    "intro = f\"My name is {name} and I am {age} years old.\"\n",
    "\n",
    "intro"
   ]
  },
  {
   "cell_type": "code",
   "execution_count": 28,
   "id": "8f80642b",
   "metadata": {},
   "outputs": [
    {
     "data": {
      "text/plain": [
       "'Hossa'"
      ]
     },
     "execution_count": 28,
     "metadata": {},
     "output_type": "execute_result"
    }
   ],
   "source": [
    "#6. **String Slicing:**\n",
    "#- Given a string, extract a substring using string slicing and print it.\n",
    "\n",
    "my_string = \"Farhad Hossain\"\n",
    "substring = my_string[7:12]\n",
    "\n",
    "substring\n"
   ]
  },
  {
   "cell_type": "code",
   "execution_count": 29,
   "id": "b22cc20d",
   "metadata": {},
   "outputs": [
    {
     "name": "stdout",
     "output_type": "stream",
     "text": [
      "Variale type: <class 'str'>\n"
     ]
    }
   ],
   "source": [
    "#7. **Type Checking:**\n",
    "#- Check the type of a variable and print the result.\n",
    "\n",
    "my_variable = \"Farhad\"\n",
    "\n",
    "print(\"Variale type:\", type(my_variable))"
   ]
  },
  {
   "cell_type": "code",
   "execution_count": 30,
   "id": "ceb6ad3d",
   "metadata": {},
   "outputs": [
    {
     "name": "stdout",
     "output_type": "stream",
     "text": [
      "Enter a string:farhad\n"
     ]
    },
    {
     "data": {
      "text/plain": [
       "'farhadfarhadfarhad'"
      ]
     },
     "execution_count": 30,
     "metadata": {},
     "output_type": "execute_result"
    }
   ],
   "source": [
    "#8. **String Repetition:**\n",
    "#- Take a string input from the user and print it repeated three times.\n",
    "\n",
    "input_string = input(\"Enter a string:\")\n",
    "repeated_string = input_string*3\n",
    "\n",
    "repeated_string"
   ]
  },
  {
   "cell_type": "code",
   "execution_count": 31,
   "id": "15ef1e70",
   "metadata": {},
   "outputs": [
    {
     "name": "stdout",
     "output_type": "stream",
     "text": [
      "['F', 'a', 'r', 'h', 'a', 'd']\n"
     ]
    }
   ],
   "source": [
    "#9. **List Conversion:**\n",
    "#- Given a string, convert it to a list of characters and print the list.\n",
    "\n",
    "my_string = \"Farhad\"\n",
    "char_list = list(my_string)\n",
    "\n",
    "print(char_list)"
   ]
  },
  {
   "cell_type": "code",
   "execution_count": 35,
   "id": "208dd961",
   "metadata": {},
   "outputs": [
    {
     "name": "stdout",
     "output_type": "stream",
     "text": [
      "Enter an integer:4\n",
      "Odd number: False\n"
     ]
    }
   ],
   "source": [
    "#10. **Boolean Conversion:**\n",
    "#- Take an integer input from the user and print whether it is even or odd using boolean conversion.\n",
    "\n",
    "user_input = int(input(\"Enter an integer:\"))\n",
    "odd_number=user_input%2 ==1\n",
    "print(\"Is Odd number:\", odd_number)"
   ]
  },
  {
   "cell_type": "code",
   "execution_count": 37,
   "id": "07513cac",
   "metadata": {},
   "outputs": [
    {
     "name": "stdout",
     "output_type": "stream",
     "text": [
      "Current date and time:2023-11-25 01:12:34.748976\n"
     ]
    }
   ],
   "source": [
    "#11. **Formatting with `%`:**\n",
    "#- Create a formatted string using the `%` method to display the current date and time.\n",
    "\n",
    "import datetime\n",
    "currtent_datetime = datetime.datetime.now()\n",
    "formatted_datetime = \"Current date and time:%s\"%currtent_datetime\n",
    "\n",
    "print(formatted_datetime)"
   ]
  },
  {
   "cell_type": "code",
   "execution_count": 38,
   "id": "4f85dc16",
   "metadata": {},
   "outputs": [
    {
     "name": "stdout",
     "output_type": "stream",
     "text": [
      "Enter a float:3.1416\n",
      "Converted to Integer: 3\n"
     ]
    }
   ],
   "source": [
    "#12. **Float Conversion:**\n",
    "#- Take a float input from the user, convert it to an integer, and print the result.\n",
    "\n",
    "float_input = float(input(\"Enter a float:\"))\n",
    "int_result=int(float_input)\n",
    "\n",
    "print(\"Converted to Integer:\", int_result)"
   ]
  },
  {
   "cell_type": "code",
   "execution_count": 40,
   "id": "a1df11eb",
   "metadata": {},
   "outputs": [
    {
     "name": "stdout",
     "output_type": "stream",
     "text": [
      "Random Number: 5\n"
     ]
    }
   ],
   "source": [
    "#13. **Random Number Generation:**\n",
    "#- Generate a random integer between 1 and 10 using the `random` module and print it.\n",
    "\n",
    "import random\n",
    "\n",
    "random_number = random.randint(1,10)\n",
    "print(\"Random Number:\", random_number)"
   ]
  },
  {
   "cell_type": "code",
   "execution_count": 45,
   "id": "e9ac2291",
   "metadata": {},
   "outputs": [
    {
     "name": "stdout",
     "output_type": "stream",
     "text": [
      "3.5\n",
      "5.7\n",
      "Decimal Result: 9.2\n"
     ]
    }
   ],
   "source": [
    "#14. **Decimal Arithmetic:**\n",
    "#- Take two decimal inputs from the user, add them, and print the result using the `decimal` module.\n",
    "\n",
    "from decimal import Decimal\n",
    "\n",
    "decimal1 = Decimal(input(''))\n",
    "decimal2 = Decimal(input(''))\n",
    "\n",
    "result = decimal1 + decimal2\n",
    "\n",
    "print (\"Decimal Result:\", result)\n",
    "\n"
   ]
  },
  {
   "cell_type": "code",
   "execution_count": 48,
   "id": "c7b31b1f",
   "metadata": {},
   "outputs": [
    {
     "name": "stdout",
     "output_type": "stream",
     "text": [
      "2 to the power of 5:, exponent_result 32\n"
     ]
    }
   ],
   "source": [
    "#15. **Exponentiation:**\n",
    "#- Calculate and print the value of 2 to the power of 5.\n",
    "\n",
    "exponent_result = 2**5\n",
    "\n",
    "print(\"2 to the power of 5:, exponent_result\", exponent_result)"
   ]
  },
  {
   "cell_type": "code",
   "execution_count": 50,
   "id": "7ebb8448",
   "metadata": {},
   "outputs": [
    {
     "name": "stdout",
     "output_type": "stream",
     "text": [
      "Is 'fa' exist: False\n"
     ]
    }
   ],
   "source": [
    "#16. **String Membership:**\n",
    "#- Check if a given substring is present in a string and print the result.\n",
    "\n",
    "my_string = \"Farhad\"\n",
    "is_exist = \"fa\" in my_string\n",
    "\n",
    "print(\"Is 'fa' exist:\", is_exist)"
   ]
  },
  {
   "cell_type": "code",
   "execution_count": 51,
   "id": "d5d175e7",
   "metadata": {},
   "outputs": [
    {
     "name": "stdout",
     "output_type": "stream",
     "text": [
      "My favorite color is Blue.\n"
     ]
    }
   ],
   "source": [
    "#17. **String Formatting with f-strings:**\n",
    "#- Use an f-string to create a formatted string with your favorite color and print it.\n",
    "\n",
    "favorite_color = \"Blue\"\n",
    "formatted_string = f\"My favorite color is {favorite_color}.\"\n",
    "\n",
    "print(formatted_string)"
   ]
  },
  {
   "cell_type": "code",
   "execution_count": 58,
   "id": "d957f35b",
   "metadata": {},
   "outputs": [
    {
     "name": "stdout",
     "output_type": "stream",
     "text": [
      "Enter a number:pp\n",
      "Invalid input. Please enter a valid number.\n"
     ]
    }
   ],
   "source": [
    "#18. **Conversion Error Handling:**\n",
    "#- Handle the exception that occurs when trying to convert a non-numeric string to an integer and print a custom error message.\n",
    "\n",
    "user_input = input(\"Enter a number:\")\n",
    "\n",
    "try:\n",
    "    num = int(user_input)\n",
    "    print(\"Conversion successful:\", num)\n",
    "    \n",
    "except ValueError:\n",
    "    print(\"Invalid input. Please enter a valid number.\")"
   ]
  },
  {
   "cell_type": "code",
   "execution_count": 59,
   "id": "47097a0e",
   "metadata": {},
   "outputs": [
    {
     "name": "stdout",
     "output_type": "stream",
     "text": [
      "Hexadecimal: 0xf0\n"
     ]
    }
   ],
   "source": [
    "#19. **Hexadecimal Conversion:**\n",
    "#- Convert the decimal number 255 to a hexadecimal string and print it.\n",
    "\n",
    "decimal_number = 240\n",
    "hex_string = hex(decimal_number)\n",
    "\n",
    "print(\"Hexadecimal:\", hex_string)"
   ]
  },
  {
   "cell_type": "code",
   "execution_count": 65,
   "id": "77d5c7bb",
   "metadata": {},
   "outputs": [
    {
     "name": "stdout",
     "output_type": "stream",
     "text": [
      "Triangle:\n",
      "*\n",
      "**\n",
      "***\n",
      "****\n",
      "*****\n",
      "Rectangle:\n",
      "*****\n",
      "*****\n",
      "*****\n",
      "*****\n",
      "*****\n"
     ]
    }
   ],
   "source": [
    "#20. **Printing Patterns:**\n",
    "#- Use the `print()` function to create a pattern of asterisks, forming a triangle or rectangle.\n",
    "\n",
    "print(\"Triangle:\")\n",
    "for i in range(1,6):\n",
    "    print(\"*\"*(i))\n",
    "\n",
    "print(\"Rectangle:\")\n",
    "for i in range(1,6):\n",
    "    print(\"*\"*5)"
   ]
  },
  {
   "cell_type": "markdown",
   "id": "fe660efc",
   "metadata": {},
   "source": [
    "## 11_Assignments"
   ]
  },
  {
   "cell_type": "markdown",
   "id": "3da830d1",
   "metadata": {},
   "source": [
    "### Assignments:"
   ]
  },
  {
   "cell_type": "code",
   "execution_count": 1,
   "id": "ed7e2895",
   "metadata": {},
   "outputs": [
    {
     "name": "stdout",
     "output_type": "stream",
     "text": [
      "Enter your name:Farhad Hossain\n",
      "Uppercase Name: FARHAD HOSSAIN\n"
     ]
    }
   ],
   "source": [
    "#1. String Manipulation:\n",
    "#- Write a Python program that takes a user's full name as input and prints it in uppercase.\n",
    "\n",
    "user_name = input(\"Enter your name:\")\n",
    "uppercase_name = user_name.upper()\n",
    "\n",
    "print(\"Uppercase Name:\", uppercase_name)"
   ]
  },
  {
   "cell_type": "code",
   "execution_count": 2,
   "id": "f1fbe29a",
   "metadata": {},
   "outputs": [
    {
     "name": "stdout",
     "output_type": "stream",
     "text": [
      "Enter the length of the the rectangle:12\n",
      "Enter the width of the rectangle: 8\n",
      "Area of the rectangle: 96.0\n"
     ]
    }
   ],
   "source": [
    "#2. Numeric Calculation:\n",
    "#- Create a program that calculates the area of a rectangle. The length and width should be taken as user input.\n",
    "\n",
    "length = float(input(\"Enter the length of the the rectangle:\"))\n",
    "width = float(input(\"Enter the width of the rectangle: \"))\n",
    "\n",
    "area = length*width\n",
    "\n",
    "print(\"Area of the rectangle:\", area)"
   ]
  },
  {
   "cell_type": "code",
   "execution_count": 3,
   "id": "a0dd3980",
   "metadata": {},
   "outputs": [
    {
     "name": "stdout",
     "output_type": "stream",
     "text": [
      "Enter your name:Farhad\n",
      "Enter your age:36\n",
      "Hello, Farhad! You are 36 years old.\n"
     ]
    }
   ],
   "source": [
    "#3. String Formatting:\n",
    "#- Write a Python program that asks the user for their name and age, then prints a formatted greeting message.\n",
    "\n",
    "user_name = input(\"Enter your name:\")\n",
    "user_age = int(input(\"Enter your age:\"))\n",
    "\n",
    "greeting = f\"Hello, {user_name}! You are {user_age} years old.\"\n",
    "\n",
    "print(greeting)"
   ]
  },
  {
   "cell_type": "code",
   "execution_count": 8,
   "id": "bb48e0e4",
   "metadata": {},
   "outputs": [
    {
     "name": "stdout",
     "output_type": "stream",
     "text": [
      "Enter the first number:4\n",
      "Enter the second number:5\n",
      "Sum: 9.0,Product: 20.0, Division: 0.8\n"
     ]
    }
   ],
   "source": [
    "#4. Conversion and Output:\n",
    "#- Take two numbers as input and print their sum, product, and the result of dividing the first number by the second.\n",
    "\n",
    "num1 = float(input(\"Enter the first number:\"))\n",
    "num2 = float(input(\"Enter the second number:\"))\n",
    "\n",
    "sum_result = num1+num2\n",
    "product_result = num1*num2\n",
    "division_result = num1/num2\n",
    "\n",
    "print(f\"Sum: {sum_result},Product: {product_result}, Division: {division_result}\")"
   ]
  },
  {
   "cell_type": "code",
   "execution_count": 11,
   "id": "2c0ca6cf",
   "metadata": {},
   "outputs": [
    {
     "name": "stdout",
     "output_type": "stream",
     "text": [
      "Enter your favorite color:red\n",
      "Nice! Other colors are wonderful too.\n"
     ]
    }
   ],
   "source": [
    "#5. Conditional String Output:\n",
    "#- Write a program that takes a user's favorite color as input and prints a message based on whether the color is \"Blue.\"\n",
    "\n",
    "favorite_color = input(\"Enter your favorite color:\")\n",
    "if favorite_color.lower() == \"blue\":\n",
    "    print(\"Great choice! Blue is fantastic.\")\n",
    "    \n",
    "else:\n",
    "    print(\"Nice! Other colors are wonderful too.\")\n",
    "\n"
   ]
  },
  {
   "cell_type": "code",
   "execution_count": 12,
   "id": "56e85222",
   "metadata": {},
   "outputs": [
    {
     "name": "stdout",
     "output_type": "stream",
     "text": [
      "Enter a sentence:I am farhad. I am a student\n",
      "Unique Words: ['farhad.', 'student', 'I', 'a', 'am']\n"
     ]
    }
   ],
   "source": [
    "#6. List Manipulation:\n",
    "#- Create a program that takes a sentence as input and prints the list of unique words in the sentence.\n",
    "\n",
    "sentence = input(\"Enter a sentence:\")\n",
    "words = sentence.split()\n",
    "unique_words = list(set(words))\n",
    "\n",
    "print(\"Unique Words:\", unique_words)"
   ]
  },
  {
   "cell_type": "code",
   "execution_count": 15,
   "id": "ed8866fa",
   "metadata": {},
   "outputs": [
    {
     "name": "stdout",
     "output_type": "stream",
     "text": [
      "Enter a floating-point number:5.36584\n",
      "Rounded Number: 5.37\n"
     ]
    }
   ],
   "source": [
    "#7. Numeric Precision:\n",
    "# Write a program that takes a floating-point number as input and prints it rounded to two decimal places.\n",
    "\n",
    "float_number = float(input(\"Enter a floating-point number:\"))\n",
    "round_number = round(float_number, 2)\n",
    "\n",
    "print(\"Rounded Number:\", round_number)"
   ]
  },
  {
   "cell_type": "code",
   "execution_count": 20,
   "id": "31682c1a",
   "metadata": {},
   "outputs": [
    {
     "name": "stdout",
     "output_type": "stream",
     "text": [
      "Guess the number (between 1 and 100): 76\n",
      "Sorry, the correct number was 39. Try again\n"
     ]
    }
   ],
   "source": [
    "#8. Random Number Generation and Output:\n",
    "#- Generate a random number between 1 and 100. Ask the user to guess the number and print whether their guess is correct or not.\n",
    "\n",
    "import random\n",
    "random_number = random.randint(1,100)\n",
    "user_guess = int(input(\"Guess the number (between 1 and 100): \"))\n",
    "\n",
    "if user_guess == random_number:\n",
    "    print(\"Congratulation! Your guess is correct.\")\n",
    "else:\n",
    "    print(f\"Sorry, the correct number was {random_number}. Try again\")\n"
   ]
  },
  {
   "cell_type": "code",
   "execution_count": 21,
   "id": "de1d4cc9",
   "metadata": {},
   "outputs": [
    {
     "name": "stdout",
     "output_type": "stream",
     "text": [
      "Enter an integer:9\n",
      "Binary Representation: 0b1001\n"
     ]
    }
   ],
   "source": [
    "#9. Data Type Conversion:\n",
    "#- Create a program that converts a user-entered integer to a binary string and prints it.\n",
    "\n",
    "user_number = int(input(\"Enter an integer:\"))\n",
    "binary_representation = bin(user_number)\n",
    "\n",
    "print(\"Binary Representation:\", binary_representation)"
   ]
  },
  {
   "cell_type": "code",
   "execution_count": 22,
   "id": "afc15eb3",
   "metadata": {},
   "outputs": [
    {
     "name": "stdout",
     "output_type": "stream",
     "text": [
      "Enter your first name:farhad\n",
      "Enter your last name:hossain\n",
      "Hello, F.HOSSAIN! Welcome.\n"
     ]
    }
   ],
   "source": [
    "#10. Advanced String Formatting:\n",
    "#- Write a program that prompts the user for their first and last names and prints a formatted message with initials and uppercase last name.\n",
    "\n",
    "first_name = input(\"Enter your first name:\")\n",
    "last_name = input(\"Enter your last name:\")\n",
    "\n",
    "initials = f\"{first_name[0].upper()}.{last_name.upper()}\"\n",
    "formatted_message = f\"Hello, {initials}! Welcome.\"\n",
    "print(formatted_message)"
   ]
  },
  {
   "cell_type": "markdown",
   "id": "a82d1576",
   "metadata": {},
   "source": [
    "## 12_Building a Contact Management System"
   ]
  },
  {
   "cell_type": "code",
   "execution_count": 14,
   "id": "efea8903",
   "metadata": {},
   "outputs": [
    {
     "name": "stdout",
     "output_type": "stream",
     "text": [
      "\n",
      "Contact Management System:\n",
      "1. Add a new contact\n",
      "2. View all contacts\n",
      "3. Search for a contact by name\n",
      "4. Exit\n"
     ]
    },
    {
     "ename": "KeyboardInterrupt",
     "evalue": "Interrupted by user",
     "output_type": "error",
     "traceback": [
      "\u001b[1;31m---------------------------------------------------------------------------\u001b[0m",
      "\u001b[1;31mKeyboardInterrupt\u001b[0m                         Traceback (most recent call last)",
      "\u001b[1;32m<ipython-input-14-23ef13a7bcb3>\u001b[0m in \u001b[0;36m<module>\u001b[1;34m\u001b[0m\n\u001b[0;32m     33\u001b[0m     \u001b[0mprint\u001b[0m\u001b[1;33m(\u001b[0m\u001b[1;34m\"4. Exit\"\u001b[0m\u001b[1;33m)\u001b[0m\u001b[1;33m\u001b[0m\u001b[1;33m\u001b[0m\u001b[0m\n\u001b[0;32m     34\u001b[0m \u001b[1;33m\u001b[0m\u001b[0m\n\u001b[1;32m---> 35\u001b[1;33m     \u001b[0mchoice\u001b[0m \u001b[1;33m=\u001b[0m \u001b[0minput\u001b[0m\u001b[1;33m(\u001b[0m\u001b[1;34m\"Enter your choice (1-4):\"\u001b[0m\u001b[1;33m)\u001b[0m\u001b[1;33m\u001b[0m\u001b[1;33m\u001b[0m\u001b[0m\n\u001b[0m\u001b[0;32m     36\u001b[0m \u001b[1;33m\u001b[0m\u001b[0m\n\u001b[0;32m     37\u001b[0m     \u001b[1;32mif\u001b[0m \u001b[0mchoice\u001b[0m \u001b[1;33m==\u001b[0m\u001b[1;34m\"1\"\u001b[0m\u001b[1;33m:\u001b[0m\u001b[1;33m\u001b[0m\u001b[1;33m\u001b[0m\u001b[0m\n",
      "\u001b[1;32m~\\anaconda3\\lib\\site-packages\\ipykernel\\kernelbase.py\u001b[0m in \u001b[0;36mraw_input\u001b[1;34m(self, prompt)\u001b[0m\n\u001b[0;32m    858\u001b[0m                 \u001b[1;34m\"raw_input was called, but this frontend does not support input requests.\"\u001b[0m\u001b[1;33m\u001b[0m\u001b[1;33m\u001b[0m\u001b[0m\n\u001b[0;32m    859\u001b[0m             )\n\u001b[1;32m--> 860\u001b[1;33m         return self._input_request(str(prompt),\n\u001b[0m\u001b[0;32m    861\u001b[0m             \u001b[0mself\u001b[0m\u001b[1;33m.\u001b[0m\u001b[0m_parent_ident\u001b[0m\u001b[1;33m,\u001b[0m\u001b[1;33m\u001b[0m\u001b[1;33m\u001b[0m\u001b[0m\n\u001b[0;32m    862\u001b[0m             \u001b[0mself\u001b[0m\u001b[1;33m.\u001b[0m\u001b[0m_parent_header\u001b[0m\u001b[1;33m,\u001b[0m\u001b[1;33m\u001b[0m\u001b[1;33m\u001b[0m\u001b[0m\n",
      "\u001b[1;32m~\\anaconda3\\lib\\site-packages\\ipykernel\\kernelbase.py\u001b[0m in \u001b[0;36m_input_request\u001b[1;34m(self, prompt, ident, parent, password)\u001b[0m\n\u001b[0;32m    902\u001b[0m             \u001b[1;32mexcept\u001b[0m \u001b[0mKeyboardInterrupt\u001b[0m\u001b[1;33m:\u001b[0m\u001b[1;33m\u001b[0m\u001b[1;33m\u001b[0m\u001b[0m\n\u001b[0;32m    903\u001b[0m                 \u001b[1;31m# re-raise KeyboardInterrupt, to truncate traceback\u001b[0m\u001b[1;33m\u001b[0m\u001b[1;33m\u001b[0m\u001b[1;33m\u001b[0m\u001b[0m\n\u001b[1;32m--> 904\u001b[1;33m                 \u001b[1;32mraise\u001b[0m \u001b[0mKeyboardInterrupt\u001b[0m\u001b[1;33m(\u001b[0m\u001b[1;34m\"Interrupted by user\"\u001b[0m\u001b[1;33m)\u001b[0m \u001b[1;32mfrom\u001b[0m \u001b[1;32mNone\u001b[0m\u001b[1;33m\u001b[0m\u001b[1;33m\u001b[0m\u001b[0m\n\u001b[0m\u001b[0;32m    905\u001b[0m             \u001b[1;32mexcept\u001b[0m \u001b[0mException\u001b[0m \u001b[1;32mas\u001b[0m \u001b[0me\u001b[0m\u001b[1;33m:\u001b[0m\u001b[1;33m\u001b[0m\u001b[1;33m\u001b[0m\u001b[0m\n\u001b[0;32m    906\u001b[0m                 \u001b[0mself\u001b[0m\u001b[1;33m.\u001b[0m\u001b[0mlog\u001b[0m\u001b[1;33m.\u001b[0m\u001b[0mwarning\u001b[0m\u001b[1;33m(\u001b[0m\u001b[1;34m\"Invalid Message:\"\u001b[0m\u001b[1;33m,\u001b[0m \u001b[0mexc_info\u001b[0m\u001b[1;33m=\u001b[0m\u001b[1;32mTrue\u001b[0m\u001b[1;33m)\u001b[0m\u001b[1;33m\u001b[0m\u001b[1;33m\u001b[0m\u001b[0m\n",
      "\u001b[1;31mKeyboardInterrupt\u001b[0m: Interrupted by user"
     ]
    }
   ],
   "source": [
    "# 1. Implement a menu-driven system with the following options:\n",
    "# - Add a new contact.\n",
    "# - View all contacts.\n",
    "# - Search for a contact by name.\n",
    "# - Exit the program.\n",
    "\n",
    "# 2. For adding a new contact:\n",
    "# - Prompt the user to enter the contact's name, phone number, and email address.\n",
    "# - Ensure that the phone number is a valid numeric value.\n",
    "\n",
    "# 3. For viewing all contacts:\n",
    "# - Display a formatted list of all contacts, including their names, phone numbers, and email addresses.\n",
    "# - If the contact list is empty, print a message indicating that there are no contacts.\n",
    "\n",
    "# 4. For searching for a contact by name:\n",
    "# - Prompt the user to enter a name to search for.\n",
    "# - Display the details of the contact if found, or indicate if the contact is not in the list.\n",
    "\n",
    "# 5. Implement proper error handling to handle cases such as invalid numeric input for phone numbers or \n",
    "# incorrect menu selections.\n",
    "\n",
    "# 6. Use appropriate string formatting for displaying contact information.\n",
    "\n",
    "# 7. Ensure that the program runs continuously until the user chooses to exit.\n",
    "\n",
    "contacts = []\n",
    "\n",
    "while True:\n",
    "    print(\"\\nContact Management System:\")\n",
    "    print(\"1. Add a new contact\")\n",
    "    print(\"2. View all contacts\")\n",
    "    print(\"3. Search for a contact by name\")\n",
    "    print(\"4. Exit\")\n",
    "    \n",
    "    choice = input(\"Enter your choice (1-4):\")\n",
    "\n",
    "    if choice ==\"1\":\n",
    "        name = input(\"Enter the contact's name:\")\n",
    "        phone = input(\"Enter the contact's phone number:\")\n",
    "        while not phone.isdigit():\n",
    "            print(\"Invalid phone number. Please enter a numeric value.\")\n",
    "            phone = input(\"Enter the contact's phone number:\")\n",
    "        email = input(\"Enter the contact'e email address:\")\n",
    "        contacts.append({\"Name\":name, \"Phone\":phone, \"Email\":email})\n",
    "        print(\"Contact added successfully!\")\n",
    "\n",
    "    elif choice ==\"2\":  \n",
    "        if not contacts:\n",
    "            print(\"No contacts available.\")\n",
    "        else:\n",
    "            print(\"\\nAll Contacts:\")\n",
    "            for contact in contacts:\n",
    "                print(f\"Name:{contact['Name']},Phone:{contact['Phone']},Email:{contact['Email']}\")\n",
    "\n",
    "    elif choice == \"3\":\n",
    "        search_name = input(\"Enter the name to search for:\")\n",
    "        found_contact = None\n",
    "        for contact in contacts:\n",
    "            if contact[\"Name\"].lower() == search_name.lower():\n",
    "                found_contact = contact\n",
    "                break\n",
    "        if found_contact:\n",
    "            print(\"\\n Contact Found:\")\n",
    "            print(f\"Name:{found_contact['Name']}, Phone:{found_contact['Phone']}, Email:{found_contact['Email']}\")\n",
    "        else:\n",
    "            print(f\"No contact found with the name'{search_name}'.\")\n",
    "    elif choice == \"4\":\n",
    "        print(\"Exiting the Contact Management System.Goodbye!\")\n",
    "        break\n",
    "        \n",
    "    else:\n",
    "        print(\"Invalid choice. Please enter a number between 1 and 4.\")              \n",
    "    "
   ]
  },
  {
   "cell_type": "markdown",
   "id": "5b99fc97",
   "metadata": {},
   "source": [
    "## 13_MCQ"
   ]
  },
  {
   "cell_type": "code",
   "execution_count": 16,
   "id": "2de12044",
   "metadata": {},
   "outputs": [
    {
     "name": "stdout",
     "output_type": "stream",
     "text": [
      "HelloWorld\n"
     ]
    }
   ],
   "source": [
    "# 1. What is the output of the following Python code?\n",
    "\n",
    "print(\"Hello\" + \"World\")"
   ]
  },
  {
   "cell_type": "code",
   "execution_count": 17,
   "id": "55b53c59",
   "metadata": {},
   "outputs": [],
   "source": [
    "# 2. Which of the following is a numeric data type in Python?\n",
    "# float"
   ]
  },
  {
   "cell_type": "code",
   "execution_count": null,
   "id": "b3737af9",
   "metadata": {},
   "outputs": [],
   "source": [
    "# 3. What does the `%` operator do in the context of string formatting?\n",
    "# String Formatting"
   ]
  },
  {
   "cell_type": "code",
   "execution_count": null,
   "id": "f4ba3e0a",
   "metadata": {},
   "outputs": [],
   "source": [
    "# 4. How can you convert a string to an integer in Python?\n",
    "# `int()`"
   ]
  },
  {
   "cell_type": "code",
   "execution_count": null,
   "id": "9309b21d",
   "metadata": {},
   "outputs": [],
   "source": [
    "# 5. Which function is used for printing output in Python?\n",
    "# `print()`"
   ]
  },
  {
   "cell_type": "code",
   "execution_count": null,
   "id": "a2a73233",
   "metadata": {},
   "outputs": [],
   "source": [
    "# 6. What does the `sep` parameter in the `print()` function control?\n",
    "# Separator between values"
   ]
  },
  {
   "cell_type": "code",
   "execution_count": null,
   "id": "34d6a901",
   "metadata": {},
   "outputs": [],
   "source": [
    "# 7. What is the result of `5 / 2` in Python?\n",
    "# b) 2.5"
   ]
  },
  {
   "cell_type": "code",
   "execution_count": null,
   "id": "8381c80f",
   "metadata": {},
   "outputs": [],
   "source": [
    "# 8. How can you convert a float to an integer in Python?\n",
    "# a) `int()`"
   ]
  },
  {
   "cell_type": "code",
   "execution_count": 21,
   "id": "fc35bd4d",
   "metadata": {},
   "outputs": [
    {
     "ename": "SyntaxError",
     "evalue": "EOL while scanning string literal (<ipython-input-21-bbb65aa78a0d>, line 1)",
     "output_type": "error",
     "traceback": [
      "\u001b[1;36m  File \u001b[1;32m\"<ipython-input-21-bbb65aa78a0d>\"\u001b[1;36m, line \u001b[1;32m1\u001b[0m\n\u001b[1;33m    print(\"Hello\" + World\")\u001b[0m\n\u001b[1;37m                           ^\u001b[0m\n\u001b[1;31mSyntaxError\u001b[0m\u001b[1;31m:\u001b[0m EOL while scanning string literal\n"
     ]
    }
   ],
   "source": [
    "#9. Which of the following is an example of a syntax error?\n",
    "`print(\"Hello\" + World\")`"
   ]
  },
  {
   "cell_type": "code",
   "execution_count": 22,
   "id": "8a0cefc4",
   "metadata": {},
   "outputs": [
    {
     "name": "stdout",
     "output_type": "stream",
     "text": [
      "My name is Alice\n"
     ]
    }
   ],
   "source": [
    "#10. What will the following code output?\n",
    "\n",
    "name = \"Alice\"\n",
    "print(f\"My name is {name}\")"
   ]
  },
  {
   "cell_type": "code",
   "execution_count": null,
   "id": "a830c5d0",
   "metadata": {},
   "outputs": [],
   "source": [
    "#11. How can you round a floating-point number to two decimal places?\n",
    "round(number, 2)"
   ]
  },
  {
   "cell_type": "code",
   "execution_count": 26,
   "id": "6a8c68d0",
   "metadata": {},
   "outputs": [
    {
     "data": {
      "text/plain": [
       "8"
      ]
     },
     "execution_count": 26,
     "metadata": {},
     "output_type": "execute_result"
    }
   ],
   "source": [
    "#12. What is the result of `2 3` in Python?\n",
    "2**3"
   ]
  },
  {
   "cell_type": "code",
   "execution_count": null,
   "id": "2650c437",
   "metadata": {},
   "outputs": [],
   "source": [
    "#13. Which function is used for converting a character to its ASCII code?\n",
    "ord()"
   ]
  },
  {
   "cell_type": "code",
   "execution_count": null,
   "id": "86e7ddcc",
   "metadata": {},
   "outputs": [],
   "source": [
    "#14. What is the hexadecimal representation of the decimal number 15?\n",
    "0x0F"
   ]
  },
  {
   "cell_type": "code",
   "execution_count": null,
   "id": "a6ab53ba",
   "metadata": {},
   "outputs": [],
   "source": [
    "#15. How can you check if a substring is present in a string?\n",
    "substring in string"
   ]
  },
  {
   "cell_type": "code",
   "execution_count": null,
   "id": "456610fd",
   "metadata": {},
   "outputs": [],
   "source": [
    "#16. Which function is used for converting an integer to a binary string?\n",
    "bin()"
   ]
  },
  {
   "cell_type": "code",
   "execution_count": null,
   "id": "2d8a6de6",
   "metadata": {},
   "outputs": [],
   "source": [
    "#17. What does the `end` parameter in the `print()` function control?\n",
    "End character"
   ]
  },
  {
   "cell_type": "code",
   "execution_count": null,
   "id": "0f393a20",
   "metadata": {},
   "outputs": [],
   "source": [
    "#18. How can you convert a string to uppercase in Python?\n",
    "string.upper()"
   ]
  },
  {
   "cell_type": "code",
   "execution_count": 27,
   "id": "78181253",
   "metadata": {},
   "outputs": [
    {
     "name": "stdout",
     "output_type": "stream",
     "text": [
      "x + y = 5.5\n"
     ]
    }
   ],
   "source": [
    "#19. What is the output of the following code?\n",
    "x = 3\n",
    "y = 2.5\n",
    "print(\"x + y =\", x + y)"
   ]
  },
  {
   "cell_type": "code",
   "execution_count": null,
   "id": "ee61808d",
   "metadata": {},
   "outputs": [],
   "source": [
    "#20. How can you convert a string to a list of characters in Python?\n",
    "list(string)"
   ]
  },
  {
   "cell_type": "code",
   "execution_count": 29,
   "id": "2efc2813",
   "metadata": {},
   "outputs": [
    {
     "name": "stdout",
     "output_type": "stream",
     "text": [
      "My name is Bob and I am years old.\n"
     ]
    }
   ],
   "source": [
    "#21. What is the output of the following code?\n",
    "\n",
    "name = \"Bob\"\n",
    "age = 25\n",
    "\n",
    "print(\"My name is {} and I am years old.\".format(name, age))"
   ]
  },
  {
   "cell_type": "code",
   "execution_count": null,
   "id": "4bacb490",
   "metadata": {},
   "outputs": [],
   "source": [
    "#22. Which of the following is a correct way to concatenate two strings in Python?\n",
    "string1 + string2"
   ]
  },
  {
   "cell_type": "code",
   "execution_count": 58,
   "id": "36874c30",
   "metadata": {},
   "outputs": [
    {
     "data": {
      "text/plain": [
       "'on'"
      ]
     },
     "execution_count": 58,
     "metadata": {},
     "output_type": "execute_result"
    }
   ],
   "source": [
    "#23. What is the result of `\"Python\"[-2:]`?\n",
    "P = \"Python\"[-2:]\n",
    "P"
   ]
  },
  {
   "cell_type": "code",
   "execution_count": null,
   "id": "797b515e",
   "metadata": {},
   "outputs": [],
   "source": [
    "#24. Which function is used to convert a string to a floating-point number?\n",
    "float()"
   ]
  },
  {
   "cell_type": "code",
   "execution_count": 35,
   "id": "bba9f045",
   "metadata": {},
   "outputs": [
    {
     "name": "stdout",
     "output_type": "stream",
     "text": [
      "21\n"
     ]
    }
   ],
   "source": [
    "#25. What is the output of the following code?\n",
    "x = 7\n",
    "y = \"3\"\n",
    "\n",
    "print(x*int(y))"
   ]
  },
  {
   "cell_type": "code",
   "execution_count": null,
   "id": "831baade",
   "metadata": {},
   "outputs": [],
   "source": [
    "#26. How can you prevent the addition of a newline character when using the `print()` function?\n",
    "Using the `end` parameter with an empty string"
   ]
  },
  {
   "cell_type": "code",
   "execution_count": 36,
   "id": "fe3a9222",
   "metadata": {},
   "outputs": [
    {
     "name": "stdout",
     "output_type": "stream",
     "text": [
      "15 divided by is 3 with a reminder of 3\n"
     ]
    }
   ],
   "source": [
    "#27. What is the output of the following code?\n",
    "a = 15\n",
    "b = 4\n",
    "\n",
    "print(f\"{a} divided by is {a//b} with a reminder of {a%b}\")"
   ]
  },
  {
   "cell_type": "code",
   "execution_count": null,
   "id": "90beb32d",
   "metadata": {},
   "outputs": [],
   "source": [
    "#28. How can you redirect the output of the `print()` function to a file?\n",
    "Using the `file` parameter"
   ]
  },
  {
   "cell_type": "code",
   "execution_count": 37,
   "id": "d1619fb7",
   "metadata": {},
   "outputs": [
    {
     "data": {
      "text/plain": [
       "1"
      ]
     },
     "execution_count": 37,
     "metadata": {},
     "output_type": "execute_result"
    }
   ],
   "source": [
    "#29. What is the result of `5 % 2` in Python?\n",
    "5%2"
   ]
  },
  {
   "cell_type": "code",
   "execution_count": null,
   "id": "c23e7b89",
   "metadata": {},
   "outputs": [],
   "source": [
    "#30. How can you print a formatted string with the current date using the `%` method?\n",
    "print(\"Today is %s\" % date)"
   ]
  },
  {
   "cell_type": "code",
   "execution_count": 39,
   "id": "f00381d8",
   "metadata": {},
   "outputs": [
    {
     "name": "stdout",
     "output_type": "stream",
     "text": [
      "10-20\n"
     ]
    }
   ],
   "source": [
    "#31. What is the output of the following code?\n",
    "x = 10\n",
    "y = 20\n",
    "\n",
    "print(x,y, sep = \"-\")"
   ]
  },
  {
   "cell_type": "code",
   "execution_count": null,
   "id": "763ad0b6",
   "metadata": {},
   "outputs": [],
   "source": [
    "#32. Which function is used to generate a random integer in Python?\n",
    "random.randint()"
   ]
  },
  {
   "cell_type": "code",
   "execution_count": null,
   "id": "bc58dc7b",
   "metadata": {},
   "outputs": [],
   "source": [
    "#33. How can you print an error message to the standard error stream?\n",
    "print(\"This is an error\", file=stderr)"
   ]
  },
  {
   "cell_type": "code",
   "execution_count": 42,
   "id": "2719e111",
   "metadata": {},
   "outputs": [
    {
     "name": "stdout",
     "output_type": "stream",
     "text": [
      "The area is 50 square units.\n"
     ]
    }
   ],
   "source": [
    "#34. What is the result of the following code?\n",
    "height  = 5\n",
    "width = 10\n",
    "\n",
    "area = height*width\n",
    "\n",
    "print(f\"The area is {area} square units.\")"
   ]
  },
  {
   "cell_type": "code",
   "execution_count": 64,
   "id": "aacaf3ce",
   "metadata": {},
   "outputs": [
    {
     "name": "stdout",
     "output_type": "stream",
     "text": [
      "     *********\n"
     ]
    }
   ],
   "source": [
    "#35. How can you create a pattern of asterisks forming a triangle using the `print()` function?\n",
    "n = 5\n",
    "i = 9\n",
    "print(\" \" * n + \"*\" * i)"
   ]
  },
  {
   "cell_type": "code",
   "execution_count": 65,
   "id": "71eb0284",
   "metadata": {},
   "outputs": [
    {
     "name": "stdout",
     "output_type": "stream",
     "text": [
      "My name is Jhon and I am 30 years old. \n"
     ]
    }
   ],
   "source": [
    "#36. What is the output of the following code?\n",
    "name = \"Jhon\"\n",
    "age = 30\n",
    "\n",
    "print(f\"My name is {name} and I am {age} years old. \")\n"
   ]
  },
  {
   "cell_type": "code",
   "execution_count": null,
   "id": "24a3b8cb",
   "metadata": {},
   "outputs": [],
   "source": [
    "#37. How can you handle the exception that occurs when trying to convert a non-numeric string to an integer?\n",
    "#Using `try` and `except` blocks"
   ]
  },
  {
   "cell_type": "code",
   "execution_count": 66,
   "id": "218436de",
   "metadata": {},
   "outputs": [
    {
     "name": "stdout",
     "output_type": "stream",
     "text": [
      "Rounded Number: 9\n"
     ]
    }
   ],
   "source": [
    "#38. What is the result of the following code?\n",
    "\n",
    "decimal_number = 8.75\n",
    "rounded_number = round(decimal_number)\n",
    "\n",
    "print(\"Rounded Number:\", rounded_number)"
   ]
  },
  {
   "cell_type": "code",
   "execution_count": null,
   "id": "e0660a9e",
   "metadata": {},
   "outputs": [],
   "source": [
    "# 39. How can you convert a decimal number to a hexadecimal string in Python?\n",
    "#hex(decimal_number)"
   ]
  },
  {
   "cell_type": "code",
   "execution_count": 67,
   "id": "9a5f4b73",
   "metadata": {},
   "outputs": [
    {
     "name": "stdout",
     "output_type": "stream",
     "text": [
      "My favorite color is GREEN.\n"
     ]
    }
   ],
   "source": [
    "# 40. What is the output of the following code?\n",
    "\n",
    "favorite_color = \"Green\"\n",
    "\n",
    "print(f\"My favorite color is {favorite_color.upper()}.\")\n"
   ]
  },
  {
   "cell_type": "markdown",
   "id": "5e985ab7",
   "metadata": {},
   "source": [
    "## The End"
   ]
  }
 ],
 "metadata": {
  "kernelspec": {
   "display_name": "Python 3",
   "language": "python",
   "name": "python3"
  },
  "language_info": {
   "codemirror_mode": {
    "name": "ipython",
    "version": 3
   },
   "file_extension": ".py",
   "mimetype": "text/x-python",
   "name": "python",
   "nbconvert_exporter": "python",
   "pygments_lexer": "ipython3",
   "version": "3.8.8"
  }
 },
 "nbformat": 4,
 "nbformat_minor": 5
}
